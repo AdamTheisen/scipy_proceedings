{
 "cells": [
  {
   "cell_type": "code",
   "execution_count": 10,
   "metadata": {},
   "outputs": [
    {
     "name": "stdout",
     "output_type": "stream",
     "text": [
      "The autoreload extension is already loaded. To reload it, use:\n",
      "  %reload_ext autoreload\n"
     ]
    }
   ],
   "source": [
    "%load_ext autoreload\n",
    "%autoreload 2\n",
    "%matplotlib inline"
   ]
  },
  {
   "cell_type": "code",
   "execution_count": 11,
   "metadata": {},
   "outputs": [],
   "source": [
    "import numpy as np\n",
    "import matplotlib.pyplot as plt"
   ]
  },
  {
   "cell_type": "code",
   "execution_count": 12,
   "metadata": {},
   "outputs": [],
   "source": [
    "from os.path import isdir, join, isfile"
   ]
  },
  {
   "cell_type": "code",
   "execution_count": 13,
   "metadata": {},
   "outputs": [],
   "source": [
    "import datetime\n",
    "import pandas as pd\n",
    "import seaborn as sns"
   ]
  },
  {
   "cell_type": "code",
   "execution_count": 14,
   "metadata": {},
   "outputs": [],
   "source": [
    "dir_run1 = \"../data/tests_performance/N128_OMP16_32nodes_2node\"\n",
    "dir_run2 = \"../data/tests_performance/N128_OMP16_32nodes_bp4\"\n",
    "\n",
    "assert(isdir(dir_run1))\n",
    "assert(isdir(dir_run2))"
   ]
  },
  {
   "cell_type": "code",
   "execution_count": 15,
   "metadata": {},
   "outputs": [],
   "source": [
    "logfile_run1 = join(dir_run1, \"delta.log\")\n",
    "logfile_run2 = join(dir_run2, \"delta.log\")\n",
    "\n",
    "assert(isfile(logfile_run1))\n",
    "assert(isfile(logfile_run2))"
   ]
  },
  {
   "cell_type": "code",
   "execution_count": 165,
   "metadata": {},
   "outputs": [],
   "source": [
    "golden_ratio = 1.618\n",
    "\n"
   ]
  },
  {
   "cell_type": "code",
   "execution_count": 145,
   "metadata": {},
   "outputs": [],
   "source": [
    "dframe_2node_pub = pd.DataFrame(columns = [\"time_pub\", \"tidx\"])\n",
    "dframe_2node_con = pd.DataFrame(columns = [\"time_con\", \"tidx\"])\n",
    "\n",
    "with open(logfile_run1, \"r\") as df:\n",
    "    l0 = df.readline()\n",
    "    splits = l0.split()\n",
    "    # There is a , that needs to be removed\n",
    "    fix_mus = splits[2].replace(\",\", \".\", 1)\n",
    "    fix_mus = fix_mus.replace(\",\", \"\")\n",
    "    toff_run1 = datetime.datetime.strptime(splits[1] + \" \" + fix_mus, \"%Y-%m-%d %H:%M:%S.%f\") \n",
    "\n",
    "    for line in df:\n",
    "        if \"Published\" in line:\n",
    "            \n",
    "            splits = line.split()\n",
    "            fix_mus = splits[2].replace(\",\", \".\", 1)\n",
    "            fix_mus = fix_mus.replace(\",\", \"\")\n",
    "            time_pub = datetime.datetime.strptime(splits[1] + \" \" + fix_mus, \"%Y-%m-%d %H:%M:%S.%f\") \n",
    "            tidx = int(splits[11])\n",
    "            \n",
    "            new_row = {\"tidx\": tidx, \"time_pub\": time_pub}\n",
    "\n",
    "            dframe_2node_pub = dframe_2node_pub.append(new_row, ignore_index=True)\n",
    "        \n",
    "            \n",
    "        elif \"Consumed\" in line:\n",
    "            splits = line.split()\n",
    "            fix_mus = splits[2].replace(\",\", \".\", 1)\n",
    "            fix_mus = fix_mus.replace(\",\", \"\")\n",
    "            time_con = datetime.datetime.strptime(splits[1] + \" \" + fix_mus, \"%Y-%m-%d %H:%M:%S.%f\") \n",
    "            tidx = int(splits[12][5:])\n",
    "            \n",
    "            new_row = {\"tidx\": tidx, \"time_con\": time_con}\n",
    "            dframe_2node_con = dframe_2node_con.append(new_row, ignore_index=True)    "
   ]
  },
  {
   "cell_type": "code",
   "execution_count": 146,
   "metadata": {},
   "outputs": [],
   "source": [
    "dframe_2node = dframe_2node_pub.merge(dframe_2node_con, how=\"inner\")\n",
    "dframe_2node[\"delta\"] = dframe_2node[\"time_con\"] - dframe_2node[\"time_pub\"]\n",
    "dframe_2node[\"delta_secs\"] = dframe_2node[\"delta\"].apply(lambda x: x.seconds + x.microseconds * 1e-6)"
   ]
  },
  {
   "cell_type": "code",
   "execution_count": null,
   "metadata": {},
   "outputs": [],
   "source": []
  },
  {
   "cell_type": "code",
   "execution_count": null,
   "metadata": {},
   "outputs": [],
   "source": []
  },
  {
   "cell_type": "code",
   "execution_count": null,
   "metadata": {},
   "outputs": [],
   "source": []
  },
  {
   "cell_type": "code",
   "execution_count": 147,
   "metadata": {},
   "outputs": [],
   "source": [
    "dframe_file_pub = pd.DataFrame(columns = [\"time_pub\", \"tidx\"])\n",
    "dframe_file_con = pd.DataFrame(columns = [\"time_con\", \"tidx\"])\n",
    "\n",
    "with open(logfile_run2, \"r\") as df:\n",
    "    l0 = df.readline()\n",
    "    splits = l0.split()\n",
    "    # There is a , that needs to be removed\n",
    "    fix_mus = splits[2].replace(\",\", \".\", 1)\n",
    "    fix_mus = fix_mus.replace(\",\", \"\")\n",
    "    toff_run2 = datetime.datetime.strptime(splits[1] + \" \" + fix_mus, \"%Y-%m-%d %H:%M:%S.%f\") \n",
    "\n",
    "    for line in df:\n",
    "        if \"Published\" in line:\n",
    "            \n",
    "            splits = line.split()\n",
    "            fix_mus = splits[2].replace(\",\", \".\", 1)\n",
    "            fix_mus = fix_mus.replace(\",\", \"\")\n",
    "            time_pub = datetime.datetime.strptime(splits[1] + \" \" + fix_mus, \"%Y-%m-%d %H:%M:%S.%f\") \n",
    "            tidx = int(splits[11])\n",
    "            \n",
    "            new_row = {\"tidx\": tidx, \"time_pub\": time_pub}\n",
    "\n",
    "            dframe_file_pub = dframe_file_pub.append(new_row, ignore_index=True)\n",
    "        \n",
    "            \n",
    "        elif \"Consumed\" in line:\n",
    "            splits = line.split()\n",
    "            fix_mus = splits[2].replace(\",\", \".\", 1)\n",
    "            fix_mus = fix_mus.replace(\",\", \"\")\n",
    "            time_con = datetime.datetime.strptime(splits[1] + \" \" + fix_mus, \"%Y-%m-%d %H:%M:%S.%f\") \n",
    "            tidx = int(splits[12][5:])\n",
    "            \n",
    "            new_row = {\"tidx\": tidx, \"time_con\": time_con}\n",
    "            dframe_file_con = dframe_file_con.append(new_row, ignore_index=True)    "
   ]
  },
  {
   "cell_type": "code",
   "execution_count": 148,
   "metadata": {},
   "outputs": [],
   "source": [
    "dframe_file = dframe_file_pub.merge(dframe_file_con, how=\"inner\")\n",
    "dframe_file[\"delta\"] = dframe_file[\"time_con\"] - dframe_file[\"time_pub\"]\n",
    "dframe_file[\"delta_secs\"] = dframe_file[\"delta\"].apply(lambda x: x.seconds + x.microseconds * 1e-6)"
   ]
  },
  {
   "cell_type": "code",
   "execution_count": 149,
   "metadata": {},
   "outputs": [
    {
     "data": {
      "text/plain": [
       "datetime.datetime(2020, 5, 22, 17, 43, 43, 782782)"
      ]
     },
     "execution_count": 149,
     "metadata": {},
     "output_type": "execute_result"
    }
   ],
   "source": []
  },
  {
   "cell_type": "code",
   "execution_count": 150,
   "metadata": {},
   "outputs": [
    {
     "data": {
      "text/plain": [
       "time_pub      2020-05-22 17:43:58.534534\n",
       "tidx                                   0\n",
       "time_con      2020-05-22 17:43:58.534534\n",
       "delta                    0 days 00:00:00\n",
       "delta_secs                             0\n",
       "Name: 0, dtype: object"
      ]
     },
     "execution_count": 150,
     "metadata": {},
     "output_type": "execute_result"
    }
   ],
   "source": []
  },
  {
   "cell_type": "code",
   "execution_count": null,
   "metadata": {},
   "outputs": [],
   "source": []
  },
  {
   "cell_type": "code",
   "execution_count": 167,
   "metadata": {
    "scrolled": false
   },
   "outputs": [
    {
     "data": {
      "image/png": "[encoded data removed]",
      "text/plain": [
       "<Figure size 249.12x153.968 with 1 Axes>"
      ]
     },
     "metadata": {
      "needs_background": "light"
     },
     "output_type": "display_data"
    }
   ],
   "source": [
    "fig = plt.figure(figsize=(3.46, 3.46 / golden_ratio))\n",
    "ax = fig.add_axes([0.2, 0.2, 0.75, 0.75])\n",
    "\n",
    "for index, row in dframe_2node.iterrows():    \n",
    "    offset = (row[\"time_pub\"] - toff_run1)\n",
    "    offset = offset.seconds + offset.microseconds * 1e-6\n",
    "    ax.barh(y=row[\"tidx\"], width=row[\"delta_secs\"], left=offset, fc=\"C1\", height=0.5)\n",
    "\n",
    "for index, row in dframe_file.iterrows():    \n",
    "    offset = (row[\"time_pub\"] - toff_run2)\n",
    "    offset = offset.seconds + offset.microseconds * 1e-6\n",
    "    ax.barh(y=row[\"tidx\"] + 0.5, width=row[\"delta_secs\"], left=offset, fc=\"C0\", height=0.5)\n",
    "    \n",
    "ax.set_xlabel(r\"Walltime / s\")\n",
    "ax.set_ylabel(r\"$n_\\mathrm{ch}$\")\n",
    "\n",
    "fig.savefig(\"performance_time_subcon.png\")"
   ]
  },
  {
   "cell_type": "code",
   "execution_count": 14,
   "metadata": {},
   "outputs": [],
   "source": [
    "dframe[\"time_fft_secs\"] = dframe[\"time_fft\"].apply(lambda x: x.seconds + x.microseconds * 1e-6)"
   ]
  },
  {
   "cell_type": "code",
   "execution_count": 21,
   "metadata": {},
   "outputs": [
    {
     "data": {
      "text/plain": [
       "[Text(0, 0, '2-node'), Text(0, 0, 'file')]"
      ]
     },
     "execution_count": 21,
     "metadata": {},
     "output_type": "execute_result"
    },
    {
     "data": {
      "image/png": "[encoded data removed]",
      "text/plain": [
       "<Figure size 432x288 with 1 Axes>"
      ]
     },
     "metadata": {
      "needs_background": "light"
     },
     "output_type": "display_data"
    }
   ],
   "source": [
    "\n",
    "\n",
    "ax = sns.violinplot(x=\"mode\", y=\"time_fft_secs\", data=dframe)\n",
    "ax.set(ylabel=r\"$t_{\\mathrm{FFT}} / \\mathrm{s}$\", xlabel=\"\")\n",
    "ax.set_xticklabels([\"2-node\", \"file\"])"
   ]
  },
  {
   "cell_type": "code",
   "execution_count": null,
   "metadata": {},
   "outputs": [],
   "source": []
  }
 ],
 "metadata": {
  "kernelspec": {
   "display_name": "Python 3",
   "language": "python",
   "name": "python3"
  },
  "language_info": {
   "codemirror_mode": {
    "name": "ipython",
    "version": 3
   },
   "file_extension": ".py",
   "mimetype": "text/x-python",
   "name": "python",
   "nbconvert_exporter": "python",
   "pygments_lexer": "ipython3",
   "version": "3.8.1"
  }
 },
 "nbformat": 4,
 "nbformat_minor": 2
}
