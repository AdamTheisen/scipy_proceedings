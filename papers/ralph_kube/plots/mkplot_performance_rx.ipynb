{
 "cells": [
  {
   "cell_type": "code",
   "execution_count": 1,
   "metadata": {},
   "outputs": [],
   "source": [
    "%load_ext autoreload\n",
    "%autoreload 2\n",
    "%matplotlib inline"
   ]
  },
  {
   "cell_type": "code",
   "execution_count": 2,
   "metadata": {},
   "outputs": [],
   "source": [
    "import numpy as np\n",
    "import matplotlib.pyplot as plt"
   ]
  },
  {
   "cell_type": "code",
   "execution_count": 3,
   "metadata": {},
   "outputs": [],
   "source": [
    "from os.path import isdir, join, isfile"
   ]
  },
  {
   "cell_type": "code",
   "execution_count": 4,
   "metadata": {},
   "outputs": [],
   "source": [
    "import datetime\n",
    "import pandas as pd\n",
    "import seaborn as sns"
   ]
  },
  {
   "cell_type": "code",
   "execution_count": 14,
   "metadata": {},
   "outputs": [
    {
     "name": "stdout",
     "output_type": "stream",
     "text": [
      "../data/tests_performance/N128_OMP16_32nodes_file_v10\n",
      "../data/tests_performance/N128_OMP16_32nodes_2node_v10_fast_sleep01\n",
      "../data/tests_performance/N128_OMP16_32nodes_3node_v10\n"
     ]
    }
   ],
   "source": [
    "dir_list = [\"../data/tests_performance/N128_OMP16_32nodes_file_v10_1exec\", \n",
    "            \"../data/tests_performance/N128_OMP16_32nodes_file_v10\",\n",
    "            \"../data/tests_performance/N128_OMP16_32nodes_file_v11\", \n",
    "            \"../data/tests_performance/N128_OMP16_32nodes_file_v12\",\n",
    "            \"../data/tests_performance/N128_OMP16_32nodes_2node_v10_fast_sleep01\",\n",
    "            \"../data/tests_performance/N128_OMP16_32nodes_2node_v11_fast_sleep01\",\n",
    "            \"../data/tests_performance/N128_OMP16_32nodes_2node_v12_fast_sleep01\",\n",
    "            \"../data/tests_performance/N128_OMP16_32nodes_3node_v10\",\n",
    "            \"../data/tests_performance/N128_OMP16_32nodes_3node_v11\",\n",
    "            \"../data/tests_performance/N128_OMP16_32nodes_3node_v12\"]\n",
    "\n",
    "dir_list = [\"../data/tests_performance/N128_OMP16_32nodes_file_v10\",\n",
    "            \"../data/tests_performance/N128_OMP16_32nodes_2node_v10_fast_sleep01\",\n",
    "            \"../data/tests_performance/N128_OMP16_32nodes_3node_v10\"]\n",
    "\n",
    "logfile_list = []\n",
    "for d in dir_list:\n",
    "    print(d)\n",
    "    logfile_list.append(join(d, \"delta.log\"))\n",
    "    assert(isfile(logfile_list[-1]))\n",
    "    assert(isdir(d))"
   ]
  },
  {
   "cell_type": "code",
   "execution_count": null,
   "metadata": {},
   "outputs": [],
   "source": []
  },
  {
   "cell_type": "code",
   "execution_count": 15,
   "metadata": {},
   "outputs": [],
   "source": [
    "golden_ratio = 1.618"
   ]
  },
  {
   "cell_type": "code",
   "execution_count": null,
   "metadata": {},
   "outputs": [],
   "source": []
  },
  {
   "cell_type": "code",
   "execution_count": null,
   "metadata": {},
   "outputs": [],
   "source": []
  },
  {
   "cell_type": "code",
   "execution_count": 16,
   "metadata": {},
   "outputs": [],
   "source": [
    "dframe_list = []\n",
    "toff_list = []\n",
    "for runnr, logfile in enumerate(logfile_list):\n",
    "    dframe_pub = pd.DataFrame(columns = [\"time_pub\", \"tidx\"])\n",
    "    dframe_con = pd.DataFrame(columns = [\"time_con\", \"tidx\"])\n",
    "\n",
    "    with open(logfile, \"r\") as df:\n",
    "        l0 = df.readline()\n",
    "        splits = l0.split()\n",
    "        # There is a , that needs to be removed\n",
    "        fix_mus = splits[2].replace(\",\", \".\", 1)\n",
    "        fix_mus = fix_mus.replace(\",\", \"\")\n",
    "        toff_run = datetime.datetime.strptime(splits[1] + \" \" + fix_mus, \"%Y-%m-%d %H:%M:%S.%f\") \n",
    "\n",
    "        \n",
    "        for line in df:\n",
    "            if not \"processor_mpi_tasklist\" in line:\n",
    "                continue\n",
    "                \n",
    "                \n",
    "            if \"Published\" in line:\n",
    "                splits = line.split()\n",
    "                fix_mus = splits[2].replace(\",\", \".\", 1)\n",
    "                fix_mus = fix_mus.replace(\",\", \"\")\n",
    "                time_pub = datetime.datetime.strptime(splits[1] + \" \" + fix_mus, \"%Y-%m-%d %H:%M:%S.%f\") \n",
    "                tidx = int(splits[11])\n",
    "                # Convert from time to offset from toff_run\n",
    "                delta = time_pub - toff_run\n",
    "                delta = delta.seconds + delta.microseconds * 1e-6\n",
    "                new_row = {\"tidx\": tidx, \"time_pub\": delta}\n",
    "                dframe_pub = dframe_pub.append(new_row, ignore_index=True)\n",
    "\n",
    "\n",
    "            elif \"Consumed\" in line:\n",
    "                splits = line.split()\n",
    "                fix_mus = splits[2].replace(\",\", \".\", 1)\n",
    "                fix_mus = fix_mus.replace(\",\", \"\")\n",
    "                time_con = datetime.datetime.strptime(splits[1] + \" \" + fix_mus, \"%Y-%m-%d %H:%M:%S.%f\") \n",
    "                delta = time_con - toff_run\n",
    "                delta = delta.seconds + delta.microseconds * 1e-6\n",
    "                tidx = int(splits[12][5:])\n",
    "\n",
    "                new_row = {\"tidx\": tidx, \"time_con\": delta}\n",
    "                dframe_con = dframe_con.append(new_row, ignore_index=True)    \n",
    "                \n",
    "    dframe = dframe_pub.merge(dframe_con, how=\"inner\")\n",
    "    #dframe[\"delta\"] = dframe[\"time_con\"] - dframe_run1[\"time_pub\"]\n",
    "    #dframe[\"delta_secs\"] = dframe[\"delta\"].apply(lambda x: x.seconds + x.microseconds * 1e-6)\n",
    "    dframe_list.append(dframe)"
   ]
  },
  {
   "cell_type": "code",
   "execution_count": null,
   "metadata": {},
   "outputs": [],
   "source": []
  },
  {
   "cell_type": "code",
   "execution_count": null,
   "metadata": {},
   "outputs": [],
   "source": []
  },
  {
   "cell_type": "code",
   "execution_count": 39,
   "metadata": {
    "scrolled": false
   },
   "outputs": [
    {
     "data": {
      "image/png": "[encoded data removed]",
      "text/plain": [
       "<Figure size 576x355.995 with 1 Axes>"
      ]
     },
     "metadata": {
      "needs_background": "light"
     },
     "output_type": "display_data"
    }
   ],
   "source": [
    "fig = plt.figure(figsize=(8, 8 / golden_ratio))\n",
    "ax = fig.add_axes([0.2, 0.2, 0.75, 0.75])\n",
    "\n",
    "\n",
    "for idx, dframe, dirname in zip([0, 1, 2], dframe_list, dir_list):\n",
    "    for index, row in dframe.iterrows(): \n",
    "        if (index + idx) % 3 == 0:\n",
    "            ax.plot([row[\"time_pub\"],  row[\"time_con\"]], [row[\"tidx\"], row[\"tidx\"]], f\"C{idx:1d}-\", lw=1)\n",
    "#    ax.barh(y=row[\"tidx\"], width=row[\"delta_secs\"], left=offset, fc=\"C0\", height=0.1)\n",
    "\n",
    "    ax.set_xlabel(r\"Walltime / s\")\n",
    "    ax.set_ylabel(r\"$n_\\mathrm{ch}$\")\n",
    "    #ax.set_title(dirname)\n",
    "\n",
    "\n",
    "#    fig.savefig(f\"{dirname}_performance_time_subcon.png\", dpi=300)"
   ]
  },
  {
   "cell_type": "code",
   "execution_count": 28,
   "metadata": {},
   "outputs": [
    {
     "data": {
      "text/plain": [
       "'0'"
      ]
     },
     "execution_count": 28,
     "metadata": {},
     "output_type": "execute_result"
    }
   ],
   "source": [
    "f\"{idx:1d}\""
   ]
  },
  {
   "cell_type": "code",
   "execution_count": null,
   "metadata": {},
   "outputs": [],
   "source": []
  },
  {
   "cell_type": "code",
   "execution_count": null,
   "metadata": {},
   "outputs": [],
   "source": []
  }
 ],
 "metadata": {
  "kernelspec": {
   "display_name": "Python 3",
   "language": "python",
   "name": "python3"
  },
  "language_info": {
   "codemirror_mode": {
    "name": "ipython",
    "version": 3
   },
   "file_extension": ".py",
   "mimetype": "text/x-python",
   "name": "python",
   "nbconvert_exporter": "python",
   "pygments_lexer": "ipython3",
   "version": "3.8.1"
  }
 },
 "nbformat": 4,
 "nbformat_minor": 4
}
