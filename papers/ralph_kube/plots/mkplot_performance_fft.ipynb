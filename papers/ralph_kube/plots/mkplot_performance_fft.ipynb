{
 "cells": [
  {
   "cell_type": "code",
   "execution_count": 1,
   "metadata": {},
   "outputs": [],
   "source": [
    "%load_ext autoreload\n",
    "%autoreload 2\n",
    "%matplotlib inline"
   ]
  },
  {
   "cell_type": "code",
   "execution_count": 2,
   "metadata": {},
   "outputs": [],
   "source": [
    "import numpy as np\n",
    "import matplotlib.pyplot as plt"
   ]
  },
  {
   "cell_type": "code",
   "execution_count": 3,
   "metadata": {},
   "outputs": [],
   "source": [
    "from os.path import isdir, join, isfile"
   ]
  },
  {
   "cell_type": "code",
   "execution_count": 4,
   "metadata": {},
   "outputs": [],
   "source": [
    "import datetime\n",
    "import pandas as pd\n",
    "import seaborn as sns"
   ]
  },
  {
   "cell_type": "code",
   "execution_count": 56,
   "metadata": {},
   "outputs": [
    {
     "name": "stdout",
     "output_type": "stream",
     "text": [
      "../data/tests_performance/N128_OMP16_32nodes_file_v10\n",
      "../data/tests_performance/N128_OMP16_32nodes_2node_v10_fast_sleep01\n",
      "../data/tests_performance/N128_OMP16_32nodes_3node_v10\n"
     ]
    }
   ],
   "source": [
    "dir_list = [\"../data/tests_performance/N128_OMP16_32nodes_file_v10_1exec\", \n",
    "            \"../data/tests_performance/N128_OMP16_32nodes_file_v10\",\n",
    "            \"../data/tests_performance/N128_OMP16_32nodes_file_v11\", \n",
    "            \"../data/tests_performance/N128_OMP16_32nodes_file_v12\",\n",
    "            \"../data/tests_performance/N128_OMP16_32nodes_2node_v10_fast_sleep01\",\n",
    "            \"../data/tests_performance/N128_OMP16_32nodes_2node_v11_fast_sleep01\",\n",
    "            \"../data/tests_performance/N128_OMP16_32nodes_2node_v12_fast_sleep01\",\n",
    "            \"../data/tests_performance/N128_OMP16_32nodes_3node_v10\",\n",
    "            \"../data/tests_performance/N128_OMP16_32nodes_3node_v11\",\n",
    "            \"../data/tests_performance/N128_OMP16_32nodes_3node_v12\"]\n",
    "\n",
    "dir_list = [\"../data/tests_performance/N128_OMP16_32nodes_file_v10\",\n",
    "            \"../data/tests_performance/N128_OMP16_32nodes_2node_v10_fast_sleep01\",\n",
    "            \"../data/tests_performance/N128_OMP16_32nodes_3node_v10\"]\n",
    "            \n",
    "logfile_list = []\n",
    "for d in dir_list:\n",
    "    print(d)\n",
    "    logfile_list.append(join(d, \"delta.log\"))\n",
    "    assert(isfile(logfile_list[-1]))\n",
    "    assert(isdir(d))"
   ]
  },
  {
   "cell_type": "code",
   "execution_count": 57,
   "metadata": {},
   "outputs": [],
   "source": [
    "columns = [\"time_log\", \"tidx\", \"time_fft\", \"runnr\"]\n",
    "dframe = pd.DataFrame(columns=columns)"
   ]
  },
  {
   "cell_type": "code",
   "execution_count": null,
   "metadata": {},
   "outputs": [],
   "source": []
  },
  {
   "cell_type": "code",
   "execution_count": 58,
   "metadata": {},
   "outputs": [
    {
     "name": "stdout",
     "output_type": "stream",
     "text": [
      "run: 0, toff_run = 2020-05-28 07:52:09.625625\n",
      "run: 1, toff_run = 2020-05-28 11:00:48.392392\n",
      "run: 2, toff_run = 2020-05-28 12:05:45.432432\n"
     ]
    }
   ],
   "source": [
    "for run, logfile in enumerate(logfile_list):\n",
    "    runnr = f\"run{run:1d}\"\n",
    "    with open(logfile, \"r\") as df:\n",
    "        l0 = df.readline()\n",
    "        splits = l0.split()\n",
    "        # There is a , that needs to be removed\n",
    "        fix_mus = splits[2].replace(\",\", \".\", 1)\n",
    "        fix_mus = fix_mus.replace(\",\", \"\")\n",
    "        toff_run = datetime.datetime.strptime(splits[1] + \" \" + fix_mus, \"%Y-%m-%d %H:%M:%S.%f\") \n",
    "\n",
    "        print(f\"run: {run}, toff_run = {toff_run}\")        \n",
    "        \n",
    "        for line in df:\n",
    "            if \"FFT took\" in line:\n",
    "                splits = line.split()\n",
    "                fix_mus = splits[2].replace(\",\", \".\", 1)\n",
    "                fix_mus = fix_mus.replace(\",\", \"\")\n",
    "                time_log = datetime.datetime.strptime(splits[1] + \" \" + fix_mus, \"%Y-%m-%d %H:%M:%S.%f\") \n",
    "                tidx = int(splits[10][:-1])\n",
    "                time_fft = float(splits[13][:-1])\n",
    "\n",
    "\n",
    "                new_row = {\"time_log\": time_log - toff_run, \"tidx\":int(splits[10][:-1]), \n",
    "                           \"time_fft\": datetime.timedelta(seconds=float(splits[13][:-1])),\n",
    "                           \"runnr\": runnr}\n",
    "                dframe = dframe.append(new_row, ignore_index=True)"
   ]
  },
  {
   "cell_type": "code",
   "execution_count": null,
   "metadata": {},
   "outputs": [],
   "source": []
  },
  {
   "cell_type": "code",
   "execution_count": null,
   "metadata": {},
   "outputs": [],
   "source": []
  },
  {
   "cell_type": "code",
   "execution_count": null,
   "metadata": {},
   "outputs": [],
   "source": []
  },
  {
   "cell_type": "code",
   "execution_count": null,
   "metadata": {},
   "outputs": [],
   "source": []
  },
  {
   "cell_type": "code",
   "execution_count": null,
   "metadata": {},
   "outputs": [],
   "source": []
  },
  {
   "cell_type": "code",
   "execution_count": null,
   "metadata": {},
   "outputs": [],
   "source": []
  },
  {
   "cell_type": "code",
   "execution_count": 61,
   "metadata": {},
   "outputs": [
    {
     "data": {
      "text/plain": [
       "Text(0, 0.5, 'time index')"
      ]
     },
     "execution_count": 61,
     "metadata": {},
     "output_type": "execute_result"
    },
    {
     "data": {
      "image/png": "[encoded data removed]",
      "text/plain": [
       "<Figure size 432x288 with 1 Axes>"
      ]
     },
     "metadata": {
      "needs_background": "light"
     },
     "output_type": "display_data"
    }
   ],
   "source": [
    "fig = plt.figure()\n",
    "ax = fig.add_axes([0.2, 0.2, 0.75, 0.75])\n",
    "\n",
    "\n",
    "for index, row in dframe.iterrows():\n",
    "    toff = row.time_log.seconds + row.time_log.microseconds * 1e-6\n",
    "    tdelta = row.time_fft.seconds + row.time_fft.microseconds * 1e-6\n",
    "\n",
    "    fc = \"C\" + row[\"runnr\"][-1]\n",
    "    ax.broken_barh([(toff, tdelta)], (row.tidx, 1), facecolors=fc)\n",
    "    \n",
    "ax.set_xlabel(\"time / s\")\n",
    "ax.set_ylabel(\"time index\")\n",
    "    \n",
    "#fig.savefig(\"time_fft.png\", dpi=300)"
   ]
  },
  {
   "cell_type": "code",
   "execution_count": 62,
   "metadata": {},
   "outputs": [],
   "source": [
    "dframe[\"time_fft_secs\"] = dframe[\"time_fft\"].apply(lambda x: x.seconds + x.microseconds * 1e-6)"
   ]
  },
  {
   "cell_type": "code",
   "execution_count": 64,
   "metadata": {},
   "outputs": [
    {
     "data": {
      "text/plain": [
       "(0.0, 10.0)"
      ]
     },
     "execution_count": 64,
     "metadata": {},
     "output_type": "execute_result"
    },
    {
     "data": {
      "image/png": "[encoded data removed]",
      "text/plain": [
       "<Figure size 864x432 with 1 Axes>"
      ]
     },
     "metadata": {
      "needs_background": "light"
     },
     "output_type": "display_data"
    }
   ],
   "source": [
    "fig2 = plt.figure(figsize=(12, 6))\n",
    "ax2 = fig2.add_axes([0.2, 0.2, 0.75, 0.75])\n",
    "\n",
    "ax = sns.violinplot(x=\"runnr\", y=\"time_fft_secs\", data=dframe, ax=ax2)\n",
    "ax.set(ylabel=r\"$t_{\\mathrm{FFT}} / \\mathrm{s}$\", xlabel=\"\")\n",
    "ax.set_xticklabels([\"file\", \"2node\", \"3node\"],\n",
    "                   rotation=270)\n",
    "\n",
    "\n",
    "ax.set_ylim((0.0, 10.0))"
   ]
  },
  {
   "cell_type": "code",
   "execution_count": null,
   "metadata": {},
   "outputs": [],
   "source": []
  }
 ],
 "metadata": {
  "kernelspec": {
   "display_name": "Python 3",
   "language": "python",
   "name": "python3"
  },
  "language_info": {
   "codemirror_mode": {
    "name": "ipython",
    "version": 3
   },
   "file_extension": ".py",
   "mimetype": "text/x-python",
   "name": "python",
   "nbconvert_exporter": "python",
   "pygments_lexer": "ipython3",
   "version": "3.8.1"
  }
 },
 "nbformat": 4,
 "nbformat_minor": 4
}
