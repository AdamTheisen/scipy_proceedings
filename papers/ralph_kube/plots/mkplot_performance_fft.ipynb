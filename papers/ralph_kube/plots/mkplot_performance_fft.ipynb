{
 "cells": [
  {
   "cell_type": "code",
   "execution_count": 1,
   "metadata": {},
   "outputs": [],
   "source": [
    "%load_ext autoreload\n",
    "%autoreload 2\n",
    "%matplotlib inline"
   ]
  },
  {
   "cell_type": "code",
   "execution_count": 2,
   "metadata": {},
   "outputs": [],
   "source": [
    "import numpy as np\n",
    "import matplotlib.pyplot as plt"
   ]
  },
  {
   "cell_type": "code",
   "execution_count": 3,
   "metadata": {},
   "outputs": [],
   "source": [
    "from os.path import isdir, join, isfile"
   ]
  },
  {
   "cell_type": "code",
   "execution_count": 4,
   "metadata": {},
   "outputs": [],
   "source": [
    "import datetime\n",
    "import pandas as pd\n",
    "import seaborn as sns"
   ]
  },
  {
   "cell_type": "code",
   "execution_count": 5,
   "metadata": {},
   "outputs": [],
   "source": [
    "dir_run1 = \"../data/tests_performance/N128_OMP16_32nodes_2node\"\n",
    "dir_run2 = \"../data/tests_performance/N128_OMP16_32nodes_bp4\"\n",
    "\n",
    "assert(isdir(dir_run1))\n",
    "assert(isdir(dir_run2))"
   ]
  },
  {
   "cell_type": "code",
   "execution_count": 6,
   "metadata": {},
   "outputs": [],
   "source": [
    "logfile_run1 = join(dir_run1, \"delta.log\")\n",
    "logfile_run2 = join(dir_run2, \"delta.log\")\n",
    "\n",
    "assert(isfile(logfile_run1))\n",
    "assert(isfile(logfile_run2))"
   ]
  },
  {
   "cell_type": "code",
   "execution_count": 7,
   "metadata": {},
   "outputs": [],
   "source": [
    "columns = [\"time_log\", \"tidx\", \"time_fft\", \"mode\"]\n",
    "\n",
    "dframe = pd.DataFrame(columns=columns)"
   ]
  },
  {
   "cell_type": "code",
   "execution_count": 8,
   "metadata": {},
   "outputs": [],
   "source": [
    "with open(logfile_run1, \"r\") as df:\n",
    "    l0 = df.readline()\n",
    "    splits = l0.split()\n",
    "    # There is a , that needs to be removed\n",
    "    fix_mus = splits[2].replace(\",\", \".\", 1)\n",
    "    fix_mus = fix_mus.replace(\",\", \"\")\n",
    "    toff_run1 = datetime.datetime.strptime(splits[1] + \" \" + fix_mus, \"%Y-%m-%d %H:%M:%S.%f\") \n",
    "\n",
    "    for line in df:\n",
    "        if \"FFT took\" in line:\n",
    "            splits = line.split()\n",
    "            fix_mus = splits[2].replace(\",\", \".\", 1)\n",
    "            fix_mus = fix_mus.replace(\",\", \"\")\n",
    "            time_log = datetime.datetime.strptime(splits[1] + \" \" + fix_mus, \"%Y-%m-%d %H:%M:%S.%f\") \n",
    "            tidx = int(splits[10][:-1])\n",
    "            time_fft = float(splits[13][:-1])\n",
    "            \n",
    "            \n",
    "            new_row = {\"time_log\": time_log - toff_run1, \"tidx\":int(splits[10][:-1]), \n",
    "                       \"time_fft\": datetime.timedelta(seconds=float(splits[13][:-1])),\n",
    "                       \"mode\": \"2node\"}\n",
    "            dframe = dframe.append(new_row, ignore_index=True)"
   ]
  },
  {
   "cell_type": "code",
   "execution_count": 9,
   "metadata": {},
   "outputs": [],
   "source": [
    "with open(logfile_run2, \"r\") as df:\n",
    "    l0 = df.readline()\n",
    "    splits = l0.split()\n",
    "    # There is a , that needs to be removed\n",
    "    fix_mus = splits[2].replace(\",\", \".\", 1)\n",
    "    fix_mus = fix_mus.replace(\",\", \"\")\n",
    "    toff_run2 = datetime.datetime.strptime(splits[1] + \" \" + fix_mus, \"%Y-%m-%d %H:%M:%S.%f\") \n",
    "\n",
    "    for line in df:\n",
    "        if \"FFT took\" in line:\n",
    "            splits = line.split()\n",
    "            fix_mus = splits[2].replace(\",\", \".\", 1)\n",
    "            fix_mus = fix_mus.replace(\",\", \"\")\n",
    "            time_log = datetime.datetime.strptime(splits[1] + \" \" + fix_mus, \"%Y-%m-%d %H:%M:%S.%f\") \n",
    "            tidx = int(splits[10][:-1])\n",
    "            time_fft = float(splits[13][:-1])\n",
    "            \n",
    "            \n",
    "            new_row = {\"time_log\": time_log - toff_run2, \"tidx\":int(splits[10][:-1]), \n",
    "                       \"time_fft\": datetime.timedelta(seconds=float(splits[13][:-1])),\n",
    "                       \"mode\": \"bp4\"}\n",
    "            dframe = dframe.append(new_row, ignore_index=True)"
   ]
  },
  {
   "cell_type": "code",
   "execution_count": 10,
   "metadata": {
    "scrolled": false
   },
   "outputs": [
    {
     "data": {
      "image/png": "[encoded data removed]",
      "text/plain": [
       "<Figure size 432x288 with 1 Axes>"
      ]
     },
     "metadata": {
      "needs_background": "light"
     },
     "output_type": "display_data"
    }
   ],
   "source": [
    "fig, ax = plt.subplots()\n",
    "\n",
    "for index, row in dframe.iterrows():\n",
    "    toff = row.time_log.seconds + row.time_log.microseconds * 1e-6\n",
    "    tdelta = row.time_fft.seconds + row.time_fft.microseconds * 1e-6\n",
    "\n",
    "    fc = None\n",
    "    if row[\"mode\"] == \"bp4\":\n",
    "        fc = \"C0\"\n",
    "    elif row[\"mode\"] == \"2node\":\n",
    "        fc = \"C1\"\n",
    "    \n",
    "    ax.broken_barh([(toff, tdelta)], (row.tidx, 1), facecolors=fc)\n",
    "\n"
   ]
  },
  {
   "cell_type": "code",
   "execution_count": 14,
   "metadata": {},
   "outputs": [],
   "source": [
    "dframe[\"time_fft_secs\"] = dframe[\"time_fft\"].apply(lambda x: x.seconds + x.microseconds * 1e-6)"
   ]
  },
  {
   "cell_type": "code",
   "execution_count": 21,
   "metadata": {},
   "outputs": [
    {
     "data": {
      "text/plain": [
       "[Text(0, 0, '2-node'), Text(0, 0, 'file')]"
      ]
     },
     "execution_count": 21,
     "metadata": {},
     "output_type": "execute_result"
    },
    {
     "data": {
      "image/png": "[encoded data removed]",
      "text/plain": [
       "<Figure size 432x288 with 1 Axes>"
      ]
     },
     "metadata": {
      "needs_background": "light"
     },
     "output_type": "display_data"
    }
   ],
   "source": [
    "\n",
    "\n",
    "ax = sns.violinplot(x=\"mode\", y=\"time_fft_secs\", data=dframe)\n",
    "ax.set(ylabel=r\"$t_{\\mathrm{FFT}} / \\mathrm{s}$\", xlabel=\"\")\n",
    "ax.set_xticklabels([\"2-node\", \"file\"])"
   ]
  },
  {
   "cell_type": "code",
   "execution_count": null,
   "metadata": {},
   "outputs": [],
   "source": []
  }
 ],
 "metadata": {
  "kernelspec": {
   "display_name": "Python 3",
   "language": "python",
   "name": "python3"
  },
  "language_info": {
   "codemirror_mode": {
    "name": "ipython",
    "version": 3
   },
   "file_extension": ".py",
   "mimetype": "text/x-python",
   "name": "python",
   "nbconvert_exporter": "python",
   "pygments_lexer": "ipython3",
   "version": "3.8.1"
  }
 },
 "nbformat": 4,
 "nbformat_minor": 2
}
