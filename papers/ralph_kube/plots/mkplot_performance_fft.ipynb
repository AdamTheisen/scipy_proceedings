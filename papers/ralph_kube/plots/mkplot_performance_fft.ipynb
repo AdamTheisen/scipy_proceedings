{
 "cells": [
  {
   "cell_type": "code",
   "execution_count": 2,
   "metadata": {},
   "outputs": [
    {
     "name": "stdout",
     "output_type": "stream",
     "text": [
      "The autoreload extension is already loaded. To reload it, use:\n",
      "  %reload_ext autoreload\n"
     ]
    }
   ],
   "source": [
    "%load_ext autoreload\n",
    "%autoreload 2\n",
    "%matplotlib inline"
   ]
  },
  {
   "cell_type": "code",
   "execution_count": 3,
   "metadata": {},
   "outputs": [],
   "source": [
    "import numpy as np\n",
    "import matplotlib.pyplot as plt"
   ]
  },
  {
   "cell_type": "code",
   "execution_count": 4,
   "metadata": {},
   "outputs": [],
   "source": [
    "from os.path import isdir, join, isfile"
   ]
  },
  {
   "cell_type": "code",
   "execution_count": 5,
   "metadata": {},
   "outputs": [],
   "source": [
    "import datetime\n",
    "import pandas as pd\n",
    "import seaborn as sns"
   ]
  },
  {
   "cell_type": "code",
   "execution_count": 93,
   "metadata": {},
   "outputs": [],
   "source": [
    "dir_run1 = \"../data/tests_performance/N128_OMP16_32nodes_bp4\"\n",
    "dir_run2 = \"../data/tests_performance/N128_OMP16_32nodes_2node\"\n",
    "dir_run3 = \"../data/tests_performance/N128_OMP16_32node_3node_v3\"\n",
    "\n",
    "assert(isdir(dir_run1))\n",
    "assert(isdir(dir_run2))\n",
    "assert(isdir(dir_run3))"
   ]
  },
  {
   "cell_type": "code",
   "execution_count": 94,
   "metadata": {},
   "outputs": [],
   "source": [
    "logfile_run1 = join(dir_run1, \"delta.log\")\n",
    "logfile_run2 = join(dir_run2, \"delta.log\")\n",
    "logfile_run3 = join(dir_run3, \"delta.log\")\n",
    "\n",
    "assert(isfile(logfile_run1))\n",
    "assert(isfile(logfile_run2))\n",
    "assert(isfile(logfile_run3))"
   ]
  },
  {
   "cell_type": "code",
   "execution_count": 95,
   "metadata": {},
   "outputs": [],
   "source": [
    "columns = [\"time_log\", \"tidx\", \"time_fft\", \"mode\"]\n",
    "\n",
    "dframe = pd.DataFrame(columns=columns)"
   ]
  },
  {
   "cell_type": "code",
   "execution_count": 96,
   "metadata": {},
   "outputs": [],
   "source": [
    "with open(logfile_run1, \"r\") as df:\n",
    "    l0 = df.readline()\n",
    "    splits = l0.split()\n",
    "    # There is a , that needs to be removed\n",
    "    fix_mus = splits[2].replace(\",\", \".\", 1)\n",
    "    fix_mus = fix_mus.replace(\",\", \"\")\n",
    "    toff_run2 = datetime.datetime.strptime(splits[1] + \" \" + fix_mus, \"%Y-%m-%d %H:%M:%S.%f\") \n",
    "\n",
    "    for line in df:\n",
    "        if \"FFT took\" in line:\n",
    "            splits = line.split()\n",
    "            fix_mus = splits[2].replace(\",\", \".\", 1)\n",
    "            fix_mus = fix_mus.replace(\",\", \"\")\n",
    "            time_log = datetime.datetime.strptime(splits[1] + \" \" + fix_mus, \"%Y-%m-%d %H:%M:%S.%f\") \n",
    "            tidx = int(splits[10][:-1])\n",
    "            time_fft = float(splits[13][:-1])\n",
    "            \n",
    "            \n",
    "            new_row = {\"time_log\": time_log - toff_run2, \"tidx\":int(splits[10][:-1]), \n",
    "                       \"time_fft\": datetime.timedelta(seconds=float(splits[13][:-1])),\n",
    "                       \"mode\": \"bp4\"}\n",
    "            dframe = dframe.append(new_row, ignore_index=True)"
   ]
  },
  {
   "cell_type": "code",
   "execution_count": 97,
   "metadata": {},
   "outputs": [],
   "source": [
    "with open(logfile_run2, \"r\") as df:\n",
    "    l0 = df.readline()\n",
    "    splits = l0.split()\n",
    "    # There is a , that needs to be removed\n",
    "    fix_mus = splits[2].replace(\",\", \".\", 1)\n",
    "    fix_mus = fix_mus.replace(\",\", \"\")\n",
    "    toff_run1 = datetime.datetime.strptime(splits[1] + \" \" + fix_mus, \"%Y-%m-%d %H:%M:%S.%f\") \n",
    "\n",
    "    for line in df:\n",
    "        if \"FFT took\" in line:\n",
    "            splits = line.split()\n",
    "            fix_mus = splits[2].replace(\",\", \".\", 1)\n",
    "            fix_mus = fix_mus.replace(\",\", \"\")\n",
    "            time_log = datetime.datetime.strptime(splits[1] + \" \" + fix_mus, \"%Y-%m-%d %H:%M:%S.%f\") \n",
    "            tidx = int(splits[10][:-1])\n",
    "            time_fft = float(splits[13][:-1])\n",
    "            \n",
    "            \n",
    "            new_row = {\"time_log\": time_log - toff_run1, \"tidx\":int(splits[10][:-1]), \n",
    "                       \"time_fft\": datetime.timedelta(seconds=float(splits[13][:-1])),\n",
    "                       \"mode\": \"2node\"}\n",
    "            dframe = dframe.append(new_row, ignore_index=True)"
   ]
  },
  {
   "cell_type": "code",
   "execution_count": null,
   "metadata": {},
   "outputs": [],
   "source": []
  },
  {
   "cell_type": "code",
   "execution_count": 98,
   "metadata": {},
   "outputs": [
    {
     "name": "stdout",
     "output_type": "stream",
     "text": [
      "['INFO', '2020-05-27', '04:04:09,542,542', '[Process', '12340', 'MainProcess', 'MainThread]', '[processor_mpi_tasklist', 'main]:', 'Starting', 'run', 'ABC125']\n",
      "['INFO', '2020-05-27', '04:04:31,221,221', '[Process', '12340', 'MainProcess', 'Thread-3]', '[tasks_mpi', 'submit]:', 'tidx', '2:', 'FFT', 'took', '1.0578s'] 1.0578\n",
      "['INFO', '2020-05-27', '04:04:31,406,406', '[Process', '12340', 'MainProcess', 'Thread-1]', '[tasks_mpi', 'submit]:', 'tidx', '0:', 'FFT', 'took', '1.3128s'] 1.3128\n",
      "['INFO', '2020-05-27', '04:04:31,682,682', '[Process', '12340', 'MainProcess', 'Thread-2]', '[tasks_mpi', 'submit]:', 'tidx', '1:', 'FFT', 'took', '1.5513s'] 1.5513\n",
      "['INFO', '2020-05-27', '04:04:32,591,591', '[Process', '12340', 'MainProcess', 'Thread-3]', '[tasks_mpi', 'submit]:', 'tidx', '4:', 'FFT', 'took', '1.1468s'] 1.1468\n",
      "['INFO', '2020-05-27', '04:04:33,757,757', '[Process', '12340', 'MainProcess', 'Thread-4]', '[tasks_mpi', 'submit]:', 'tidx', '3:', 'FFT', 'took', '3.5642s'] 3.5642\n",
      "['INFO', '2020-05-27', '04:04:34,580,580', '[Process', '12340', 'MainProcess', 'Thread-1]', '[tasks_mpi', 'submit]:', 'tidx', '5:', 'FFT', 'took', '3.1274s'] 3.1274\n",
      "['INFO', '2020-05-27', '04:04:34,665,665', '[Process', '12340', 'MainProcess', 'Thread-3]', '[tasks_mpi', 'submit]:', 'tidx', '6:', 'FFT', 'took', '1.4823s'] 1.4823\n",
      "['INFO', '2020-05-27', '04:04:34,922,922', '[Process', '12340', 'MainProcess', 'Thread-2]', '[tasks_mpi', 'submit]:', 'tidx', '7:', 'FFT', 'took', '1.3802s'] 1.3802\n",
      "['INFO', '2020-05-27', '04:04:35,281,281', '[Process', '12340', 'MainProcess', 'Thread-4]', '[tasks_mpi', 'submit]:', 'tidx', '8:', 'FFT', 'took', '0.9635s'] 0.9635\n",
      "['INFO', '2020-05-27', '04:04:35,681,681', '[Process', '12340', 'MainProcess', 'Thread-1]', '[tasks_mpi', 'submit]:', 'tidx', '9:', 'FFT', 'took', '1.0211s'] 1.0211\n",
      "['INFO', '2020-05-27', '04:04:35,950,950', '[Process', '12340', 'MainProcess', 'Thread-3]', '[tasks_mpi', 'submit]:', 'tidx', '10:', 'FFT', 'took', '1.0679s'] 1.0679\n",
      "['INFO', '2020-05-27', '04:04:36,197,197', '[Process', '12340', 'MainProcess', 'Thread-2]', '[tasks_mpi', 'submit]:', 'tidx', '11:', 'FFT', 'took', '1.0417s'] 1.0417\n",
      "['INFO', '2020-05-27', '04:04:36,312,312', '[Process', '12340', 'MainProcess', 'Thread-4]', '[tasks_mpi', 'submit]:', 'tidx', '12:', 'FFT', 'took', '0.8671s'] 0.8671\n",
      "['INFO', '2020-05-27', '04:04:36,558,558', '[Process', '12340', 'MainProcess', 'Thread-1]', '[tasks_mpi', 'submit]:', 'tidx', '13:', 'FFT', 'took', '0.8352s'] 0.8352\n",
      "['INFO', '2020-05-27', '04:04:37,130,130', '[Process', '12340', 'MainProcess', 'Thread-2]', '[tasks_mpi', 'submit]:', 'tidx', '15:', 'FFT', 'took', '0.8425s'] 0.8425\n",
      "['INFO', '2020-05-27', '04:04:37,241,241', '[Process', '12340', 'MainProcess', 'Thread-3]', '[tasks_mpi', 'submit]:', 'tidx', '14:', 'FFT', 'took', '1.0635s'] 1.0635\n",
      "['INFO', '2020-05-27', '04:04:37,562,562', '[Process', '12340', 'MainProcess', 'Thread-4]', '[tasks_mpi', 'submit]:', 'tidx', '16:', 'FFT', 'took', '1.0282s'] 1.0282\n",
      "['INFO', '2020-05-27', '04:04:37,889,889', '[Process', '12340', 'MainProcess', 'Thread-1]', '[tasks_mpi', 'submit]:', 'tidx', '17:', 'FFT', 'took', '1.0408s'] 1.0408\n",
      "['INFO', '2020-05-27', '04:04:38,115,115', '[Process', '12340', 'MainProcess', 'Thread-2]', '[tasks_mpi', 'submit]:', 'tidx', '18:', 'FFT', 'took', '0.9206s'] 0.9206\n",
      "['INFO', '2020-05-27', '04:04:38,639,639', '[Process', '12340', 'MainProcess', 'Thread-3]', '[tasks_mpi', 'submit]:', 'tidx', '19:', 'FFT', 'took', '0.9115s'] 0.9115\n",
      "['INFO', '2020-05-27', '04:04:38,809,809', '[Process', '12340', 'MainProcess', 'Thread-4]', '[tasks_mpi', 'submit]:', 'tidx', '20:', 'FFT', 'took', '1.0572s'] 1.0572\n",
      "['INFO', '2020-05-27', '04:04:39,002,2', '[Process', '12340', 'MainProcess', 'Thread-1]', '[tasks_mpi', 'submit]:', 'tidx', '21:', 'FFT', 'took', '1.0352s'] 1.0352\n",
      "['INFO', '2020-05-27', '04:04:39,262,262', '[Process', '12340', 'MainProcess', 'Thread-2]', '[tasks_mpi', 'submit]:', 'tidx', '22:', 'FFT', 'took', '0.8511s'] 0.8511\n",
      "['INFO', '2020-05-27', '04:04:39,488,488', '[Process', '12340', 'MainProcess', 'Thread-3]', '[tasks_mpi', 'submit]:', 'tidx', '23:', 'FFT', 'took', '0.8230s'] 0.823\n",
      "['INFO', '2020-05-27', '04:04:40,123,123', '[Process', '12340', 'MainProcess', 'Thread-4]', '[tasks_mpi', 'submit]:', 'tidx', '24:', 'FFT', 'took', '1.1044s'] 1.1044\n",
      "['INFO', '2020-05-27', '04:04:40,282,282', '[Process', '12340', 'MainProcess', 'Thread-1]', '[tasks_mpi', 'submit]:', 'tidx', '25:', 'FFT', 'took', '1.2583s'] 1.2583\n",
      "['INFO', '2020-05-27', '04:04:40,514,514', '[Process', '12340', 'MainProcess', 'Thread-2]', '[tasks_mpi', 'submit]:', 'tidx', '26:', 'FFT', 'took', '1.2304s'] 1.2304\n",
      "['INFO', '2020-05-27', '04:04:40,929,929', '[Process', '12340', 'MainProcess', 'Thread-3]', '[tasks_mpi', 'submit]:', 'tidx', '27:', 'FFT', 'took', '1.1397s'] 1.1397\n",
      "['INFO', '2020-05-27', '04:04:41,106,106', '[Process', '12340', 'MainProcess', 'Thread-4]', '[tasks_mpi', 'submit]:', 'tidx', '28:', 'FFT', 'took', '0.7578s'] 0.7578\n",
      "['INFO', '2020-05-27', '04:04:41,296,296', '[Process', '12340', 'MainProcess', 'Thread-1]', '[tasks_mpi', 'submit]:', 'tidx', '29:', 'FFT', 'took', '0.9394s'] 0.9394\n",
      "['INFO', '2020-05-27', '04:04:41,525,525', '[Process', '12340', 'MainProcess', 'Thread-2]', '[tasks_mpi', 'submit]:', 'tidx', '30:', 'FFT', 'took', '0.9656s'] 0.9656\n",
      "['INFO', '2020-05-27', '04:04:41,659,659', '[Process', '12340', 'MainProcess', 'Thread-3]', '[tasks_mpi', 'submit]:', 'tidx', '31:', 'FFT', 'took', '0.6868s'] 0.6868\n",
      "['INFO', '2020-05-27', '04:04:42,355,355', '[Process', '12340', 'MainProcess', 'Thread-4]', '[tasks_mpi', 'submit]:', 'tidx', '32:', 'FFT', 'took', '1.0502s'] 1.0502\n",
      "['INFO', '2020-05-27', '04:04:42,446,446', '[Process', '12340', 'MainProcess', 'Thread-1]', '[tasks_mpi', 'submit]:', 'tidx', '33:', 'FFT', 'took', '1.0773s'] 1.0773\n",
      "['INFO', '2020-05-27', '04:04:42,653,653', '[Process', '12340', 'MainProcess', 'Thread-2]', '[tasks_mpi', 'submit]:', 'tidx', '35:', 'FFT', 'took', '1.0976s'] 1.0976\n",
      "['INFO', '2020-05-27', '04:04:43,174,174', '[Process', '12340', 'MainProcess', 'Thread-3]', '[tasks_mpi', 'submit]:', 'tidx', '39:', 'FFT', 'took', '1.0857s'] 1.0857\n",
      "['INFO', '2020-05-27', '04:04:43,446,446', '[Process', '12340', 'MainProcess', 'Thread-4]', '[tasks_mpi', 'submit]:', 'tidx', '40:', 'FFT', 'took', '1.0143s'] 1.0143\n",
      "['INFO', '2020-05-27', '04:04:43,548,548', '[Process', '12340', 'MainProcess', 'Thread-1]', '[tasks_mpi', 'submit]:', 'tidx', '41:', 'FFT', 'took', '0.9142s'] 0.9142\n",
      "['INFO', '2020-05-27', '04:04:44,005,5', '[Process', '12340', 'MainProcess', 'Thread-2]', '[tasks_mpi', 'submit]:', 'tidx', '55:', 'FFT', 'took', '1.1836s'] 1.1836\n",
      "['INFO', '2020-05-27', '04:04:44,154,154', '[Process', '12340', 'MainProcess', 'Thread-3]', '[tasks_mpi', 'submit]:', 'tidx', '63:', 'FFT', 'took', '0.9455s'] 0.9455\n",
      "['INFO', '2020-05-27', '04:04:44,702,702', '[Process', '12340', 'MainProcess', 'Thread-4]', '[tasks_mpi', 'submit]:', 'tidx', '64:', 'FFT', 'took', '1.1623s'] 1.1623\n",
      "['INFO', '2020-05-27', '04:04:44,826,826', '[Process', '12340', 'MainProcess', 'Thread-1]', '[tasks_mpi', 'submit]:', 'tidx', '65:', 'FFT', 'took', '0.8099s'] 0.8099\n",
      "['INFO', '2020-05-27', '04:04:45,035,35', '[Process', '12340', 'MainProcess', 'Thread-2]', '[tasks_mpi', 'submit]:', 'tidx', '69:', 'FFT', 'took', '1.0109s'] 1.0109\n",
      "['INFO', '2020-05-27', '04:04:45,289,289', '[Process', '12340', 'MainProcess', 'Thread-3]', '[tasks_mpi', 'submit]:', 'tidx', '83:', 'FFT', 'took', '0.8481s'] 0.8481\n",
      "['INFO', '2020-05-27', '04:04:45,668,668', '[Process', '12340', 'MainProcess', 'Thread-4]', '[tasks_mpi', 'submit]:', 'tidx', '92:', 'FFT', 'took', '0.8823s'] 0.8823\n",
      "['INFO', '2020-05-27', '04:04:45,771,771', '[Process', '12340', 'MainProcess', 'Thread-1]', '[tasks_mpi', 'submit]:', 'tidx', '93:', 'FFT', 'took', '0.7275s'] 0.7275\n",
      "['INFO', '2020-05-27', '04:04:45,989,989', '[Process', '12340', 'MainProcess', 'Thread-3]', '[tasks_mpi', 'submit]:', 'tidx', '95:', 'FFT', 'took', '0.6930s'] 0.693\n",
      "['INFO', '2020-05-27', '04:04:46,209,209', '[Process', '12340', 'MainProcess', 'Thread-2]', '[tasks_mpi', 'submit]:', 'tidx', '94:', 'FFT', 'took', '1.1566s'] 1.1566\n",
      "['INFO', '2020-05-27', '04:04:46,478,478', '[Process', '12340', 'MainProcess', 'Thread-1]', '[tasks_mpi', 'submit]:', 'tidx', '97:', 'FFT', 'took', '0.7008s'] 0.7008\n",
      "['INFO', '2020-05-27', '04:04:46,701,701', '[Process', '12340', 'MainProcess', 'Thread-4]', '[tasks_mpi', 'submit]:', 'tidx', '96:', 'FFT', 'took', '1.0142s'] 1.0142\n",
      "['INFO', '2020-05-27', '04:04:46,806,806', '[Process', '12340', 'MainProcess', 'Thread-3]', '[tasks_mpi', 'submit]:', 'tidx', '101:', 'FFT', 'took', '0.8090s'] 0.809\n",
      "['INFO', '2020-05-27', '04:04:47,017,17', '[Process', '12340', 'MainProcess', 'Thread-2]', '[tasks_mpi', 'submit]:', 'tidx', '102:', 'FFT', 'took', '0.6731s'] 0.6731\n",
      "['INFO', '2020-05-27', '04:04:47,372,372', '[Process', '12340', 'MainProcess', 'Thread-1]', '[tasks_mpi', 'submit]:', 'tidx', '107:', 'FFT', 'took', '0.8864s'] 0.8864\n",
      "['INFO', '2020-05-27', '04:04:47,647,647', '[Process', '12340', 'MainProcess', 'Thread-4]', '[tasks_mpi', 'submit]:', 'tidx', '116:', 'FFT', 'took', '0.9388s'] 0.9388\n",
      "['INFO', '2020-05-27', '04:04:47,773,773', '[Process', '12340', 'MainProcess', 'Thread-3]', '[tasks_mpi', 'submit]:', 'tidx', '124:', 'FFT', 'took', '0.9615s'] 0.9615\n",
      "['INFO', '2020-05-27', '04:04:47,968,968', '[Process', '12340', 'MainProcess', 'Thread-2]', '[tasks_mpi', 'submit]:', 'tidx', '125:', 'FFT', 'took', '0.9441s'] 0.9441\n",
      "['INFO', '2020-05-27', '04:04:48,079,79', '[Process', '12340', 'MainProcess', 'Thread-1]', '[tasks_mpi', 'submit]:', 'tidx', '126:', 'FFT', 'took', '0.7002s'] 0.7002\n",
      "['INFO', '2020-05-27', '04:04:48,478,478', '[Process', '12340', 'MainProcess', 'Thread-4]', '[tasks_mpi', 'submit]:', 'tidx', '130:', 'FFT', 'took', '0.8244s'] 0.8244\n",
      "['INFO', '2020-05-27', '04:04:48,856,856', '[Process', '12340', 'MainProcess', 'Thread-2]', '[tasks_mpi', 'submit]:', 'tidx', '132:', 'FFT', 'took', '0.8810s'] 0.881\n",
      "['INFO', '2020-05-27', '04:04:48,910,910', '[Process', '12340', 'MainProcess', 'Thread-3]', '[tasks_mpi', 'submit]:', 'tidx', '131:', 'FFT', 'took', '0.9592s'] 0.9592\n",
      "['INFO', '2020-05-27', '04:04:49,166,166', '[Process', '12340', 'MainProcess', 'Thread-1]', '[tasks_mpi', 'submit]:', 'tidx', '133:', 'FFT', 'took', '1.0814s'] 1.0814\n",
      "['INFO', '2020-05-27', '04:04:49,401,401', '[Process', '12340', 'MainProcess', 'Thread-4]', '[tasks_mpi', 'submit]:', 'tidx', '134:', 'FFT', 'took', '0.9042s'] 0.9042\n",
      "['INFO', '2020-05-27', '04:04:49,519,519', '[Process', '12340', 'MainProcess', 'Thread-2]', '[tasks_mpi', 'submit]:', 'tidx', '139:', 'FFT', 'took', '0.6572s'] 0.6572\n",
      "['INFO', '2020-05-27', '04:04:49,745,745', '[Process', '12340', 'MainProcess', 'Thread-3]', '[tasks_mpi', 'submit]:', 'tidx', '140:', 'FFT', 'took', '0.8268s'] 0.8268\n",
      "['INFO', '2020-05-27', '04:04:49,876,876', '[Process', '12340', 'MainProcess', 'Thread-1]', '[tasks_mpi', 'submit]:', 'tidx', '141:', 'FFT', 'took', '0.7013s'] 0.7013\n",
      "['INFO', '2020-05-27', '04:04:50,129,129', '[Process', '12340', 'MainProcess', 'Thread-4]', '[tasks_mpi', 'submit]:', 'tidx', '146:', 'FFT', 'took', '0.7206s'] 0.7206\n",
      "['INFO', '2020-05-27', '04:04:50,356,356', '[Process', '12340', 'MainProcess', 'Thread-2]', '[tasks_mpi', 'submit]:', 'tidx', '151:', 'FFT', 'took', '0.8303s'] 0.8303\n",
      "['INFO', '2020-05-27', '04:04:50,479,479', '[Process', '12340', 'MainProcess', 'Thread-3]', '[tasks_mpi', 'submit]:', 'tidx', '154:', 'FFT', 'took', '0.7232s'] 0.7232\n",
      "['INFO', '2020-05-27', '04:04:50,727,727', '[Process', '12340', 'MainProcess', 'Thread-1]', '[tasks_mpi', 'submit]:', 'tidx', '155:', 'FFT', 'took', '0.8450s'] 0.845\n",
      "['INFO', '2020-05-27', '04:04:50,831,831', '[Process', '12340', 'MainProcess', 'Thread-4]', '[tasks_mpi', 'submit]:', 'tidx', '156:', 'FFT', 'took', '0.6944s'] 0.6944\n",
      "['INFO', '2020-05-27', '04:04:51,054,54', '[Process', '12340', 'MainProcess', 'Thread-2]', '[tasks_mpi', 'submit]:', 'tidx', '157:', 'FFT', 'took', '0.6924s'] 0.6924\n",
      "['INFO', '2020-05-27', '04:04:51,326,326', '[Process', '12340', 'MainProcess', 'Thread-3]', '[tasks_mpi', 'submit]:', 'tidx', '161:', 'FFT', 'took', '0.8399s'] 0.8399\n",
      "['INFO', '2020-05-27', '04:04:51,444,444', '[Process', '12340', 'MainProcess', 'Thread-1]', '[tasks_mpi', 'submit]:', 'tidx', '162:', 'FFT', 'took', '0.7075s'] 0.7075\n",
      "['INFO', '2020-05-27', '04:04:51,691,691', '[Process', '12340', 'MainProcess', 'Thread-2]', '[tasks_mpi', 'submit]:', 'tidx', '168:', 'FFT', 'took', '0.6315s'] 0.6315\n",
      "['INFO', '2020-05-27', '04:04:51,804,804', '[Process', '12340', 'MainProcess', 'Thread-4]', '[tasks_mpi', 'submit]:', 'tidx', '163:', 'FFT', 'took', '0.9093s'] 0.9093\n",
      "['INFO', '2020-05-27', '04:04:52,162,162', '[Process', '12340', 'MainProcess', 'Thread-3]', '[tasks_mpi', 'submit]:', 'tidx', '169:', 'FFT', 'took', '0.8307s'] 0.8307\n",
      "['INFO', '2020-05-27', '04:04:52,300,300', '[Process', '12340', 'MainProcess', 'Thread-1]', '[tasks_mpi', 'submit]:', 'tidx', '170:', 'FFT', 'took', '0.8500s'] 0.85\n",
      "['INFO', '2020-05-27', '04:04:52,663,663', '[Process', '12340', 'MainProcess', 'Thread-2]', '[tasks_mpi', 'submit]:', 'tidx', '175:', 'FFT', 'took', '0.9641s'] 0.9641\n",
      "['INFO', '2020-05-27', '04:04:52,799,799', '[Process', '12340', 'MainProcess', 'Thread-4]', '[tasks_mpi', 'submit]:', 'tidx', '176:', 'FFT', 'took', '0.9877s'] 0.9877\n",
      "['INFO', '2020-05-27', '04:04:53,162,162', '[Process', '12340', 'MainProcess', 'Thread-3]', '[tasks_mpi', 'submit]:', 'tidx', '178:', 'FFT', 'took', '0.9931s'] 0.9931\n",
      "['INFO', '2020-05-27', '04:04:53,295,295', '[Process', '12340', 'MainProcess', 'Thread-1]', '[tasks_mpi', 'submit]:', 'tidx', '179:', 'FFT', 'took', '0.9881s'] 0.9881\n",
      "['INFO', '2020-05-27', '04:04:53,611,611', '[Process', '12340', 'MainProcess', 'Thread-2]', '[tasks_mpi', 'submit]:', 'tidx', '180:', 'FFT', 'took', '0.9433s'] 0.9433\n",
      "['INFO', '2020-05-27', '04:04:53,727,727', '[Process', '12340', 'MainProcess', 'Thread-4]', '[tasks_mpi', 'submit]:', 'tidx', '185:', 'FFT', 'took', '0.9204s'] 0.9204\n",
      "['INFO', '2020-05-27', '04:04:54,048,48', '[Process', '12340', 'MainProcess', 'Thread-3]', '[tasks_mpi', 'submit]:', 'tidx', '192:', 'FFT', 'took', '0.8813s'] 0.8813\n",
      "['INFO', '2020-05-27', '04:04:54,180,180', '[Process', '12340', 'MainProcess', 'Thread-1]', '[tasks_mpi', 'submit]:', 'tidx', '193:', 'FFT', 'took', '0.8768s'] 0.8768\n",
      "['INFO', '2020-05-27', '04:04:54,373,373', '[Process', '12340', 'MainProcess', 'Thread-2]', '[tasks_mpi', 'submit]:', 'tidx', '194:', 'FFT', 'took', '0.7568s'] 0.7568\n",
      "['INFO', '2020-05-27', '04:04:54,708,708', '[Process', '12340', 'MainProcess', 'Thread-4]', '[tasks_mpi', 'submit]:', 'tidx', '195:', 'FFT', 'took', '0.9654s'] 0.9654\n",
      "['INFO', '2020-05-27', '04:04:55,014,14', '[Process', '12340', 'MainProcess', 'Thread-3]', '[tasks_mpi', 'submit]:', 'tidx', '196:', 'FFT', 'took', '0.9564s'] 0.9564\n",
      "['INFO', '2020-05-27', '04:04:55,059,59', '[Process', '12340', 'MainProcess', 'Thread-1]', '[tasks_mpi', 'submit]:', 'tidx', '199:', 'FFT', 'took', '0.8724s'] 0.8724\n",
      "['INFO', '2020-05-27', '04:04:55,399,399', '[Process', '12340', 'MainProcess', 'Thread-2]', '[tasks_mpi', 'submit]:', 'tidx', '200:', 'FFT', 'took', '1.0182s'] 1.0182\n",
      "['INFO', '2020-05-27', '04:04:55,631,631', '[Process', '12340', 'MainProcess', 'Thread-4]', '[tasks_mpi', 'submit]:', 'tidx', '202:', 'FFT', 'took', '0.9136s'] 0.9136\n",
      "['INFO', '2020-05-27', '04:04:55,925,925', '[Process', '12340', 'MainProcess', 'Thread-3]', '[tasks_mpi', 'submit]:', 'tidx', '203:', 'FFT', 'took', '0.8991s'] 0.8991\n",
      "['INFO', '2020-05-27', '04:04:56,072,72', '[Process', '12340', 'MainProcess', 'Thread-1]', '[tasks_mpi', 'submit]:', 'tidx', '204:', 'FFT', 'took', '1.0071s'] 1.0071\n",
      "['INFO', '2020-05-27', '04:04:56,176,176', '[Process', '12340', 'MainProcess', 'Thread-2]', '[tasks_mpi', 'submit]:', 'tidx', '218:', 'FFT', 'took', '0.7716s'] 0.7716\n",
      "['INFO', '2020-05-27', '04:04:56,383,383', '[Process', '12340', 'MainProcess', 'Thread-4]', '[tasks_mpi', 'submit]:', 'tidx', '219:', 'FFT', 'took', '0.6276s'] 0.6276\n"
     ]
    },
    {
     "name": "stdout",
     "output_type": "stream",
     "text": [
      "['INFO', '2020-05-27', '04:04:56,808,808', '[Process', '12340', 'MainProcess', 'Thread-3]', '[tasks_mpi', 'submit]:', 'tidx', '220:', 'FFT', 'took', '0.7488s'] 0.7488\n",
      "['INFO', '2020-05-27', '04:04:56,970,970', '[Process', '12340', 'MainProcess', 'Thread-1]', '[tasks_mpi', 'submit]:', 'tidx', '221:', 'FFT', 'took', '0.8927s'] 0.8927\n",
      "['INFO', '2020-05-27', '04:04:57,214,214', '[Process', '12340', 'MainProcess', 'Thread-2]', '[tasks_mpi', 'submit]:', 'tidx', '222:', 'FFT', 'took', '1.0303s'] 1.0303\n",
      "['INFO', '2020-05-27', '04:04:57,437,437', '[Process', '12340', 'MainProcess', 'Thread-4]', '[tasks_mpi', 'submit]:', 'tidx', '223:', 'FFT', 'took', '1.0478s'] 1.0478\n",
      "['INFO', '2020-05-27', '04:04:57,870,870', '[Process', '12340', 'MainProcess', 'Thread-3]', '[tasks_mpi', 'submit]:', 'tidx', '229:', 'FFT', 'took', '0.9144s'] 0.9144\n",
      "['INFO', '2020-05-27', '04:04:58,028,28', '[Process', '12340', 'MainProcess', 'Thread-2]', '[tasks_mpi', 'submit]:', 'tidx', '239:', 'FFT', 'took', '0.8076s'] 0.8076\n",
      "['INFO', '2020-05-27', '04:04:58,217,217', '[Process', '12340', 'MainProcess', 'Thread-1]', '[tasks_mpi', 'submit]:', 'tidx', '230:', 'FFT', 'took', '1.2287s'] 1.2287\n",
      "['INFO', '2020-05-27', '04:04:58,435,435', '[Process', '12340', 'MainProcess', 'Thread-4]', '[tasks_mpi', 'submit]:', 'tidx', '240:', 'FFT', 'took', '0.8743s'] 0.8743\n",
      "['INFO', '2020-05-27', '04:04:58,919,919', '[Process', '12340', 'MainProcess', 'Thread-3]', '[tasks_mpi', 'submit]:', 'tidx', '241:', 'FFT', 'took', '0.9262s'] 0.9262\n",
      "['INFO', '2020-05-27', '04:04:59,054,54', '[Process', '12340', 'MainProcess', 'Thread-1]', '[tasks_mpi', 'submit]:', 'tidx', '247:', 'FFT', 'took', '0.8309s'] 0.8309\n",
      "['INFO', '2020-05-27', '04:04:59,394,394', '[Process', '12340', 'MainProcess', 'Thread-2]', '[tasks_mpi', 'submit]:', 'tidx', '246:', 'FFT', 'took', '1.3238s'] 1.3238\n",
      "['INFO', '2020-05-27', '04:04:59,529,529', '[Process', '12340', 'MainProcess', 'Thread-4]', '[tasks_mpi', 'submit]:', 'tidx', '248:', 'FFT', 'took', '0.9592s'] 0.9592\n",
      "['INFO', '2020-05-27', '04:04:59,875,875', '[Process', '12340', 'MainProcess', 'Thread-3]', '[tasks_mpi', 'submit]:', 'tidx', '250:', 'FFT', 'took', '0.9471s'] 0.9471\n",
      "['INFO', '2020-05-27', '04:05:00,001,1', '[Process', '12340', 'MainProcess', 'Thread-1]', '[tasks_mpi', 'submit]:', 'tidx', '251:', 'FFT', 'took', '0.9410s'] 0.941\n",
      "['INFO', '2020-05-27', '04:05:00,323,323', '[Process', '12340', 'MainProcess', 'Thread-2]', '[tasks_mpi', 'submit]:', 'tidx', '252:', 'FFT', 'took', '0.9212s'] 0.9212\n",
      "['INFO', '2020-05-27', '04:05:00,586,586', '[Process', '12340', 'MainProcess', 'Thread-4]', '[tasks_mpi', 'submit]:', 'tidx', '259:', 'FFT', 'took', '1.0510s'] 1.051\n",
      "['INFO', '2020-05-27', '04:05:00,786,786', '[Process', '12340', 'MainProcess', 'Thread-3]', '[tasks_mpi', 'submit]:', 'tidx', '260:', 'FFT', 'took', '0.9015s'] 0.9015\n",
      "['INFO', '2020-05-27', '04:05:00,913,913', '[Process', '12340', 'MainProcess', 'Thread-1]', '[tasks_mpi', 'submit]:', 'tidx', '266:', 'FFT', 'took', '0.9058s'] 0.9058\n",
      "['INFO', '2020-05-27', '04:05:01,221,221', '[Process', '12340', 'MainProcess', 'Thread-2]', '[tasks_mpi', 'submit]:', 'tidx', '267:', 'FFT', 'took', '0.8898s'] 0.8898\n",
      "['INFO', '2020-05-27', '04:05:01,457,457', '[Process', '12340', 'MainProcess', 'Thread-4]', '[tasks_mpi', 'submit]:', 'tidx', '268:', 'FFT', 'took', '0.8649s'] 0.8649\n",
      "['INFO', '2020-05-27', '04:05:01,567,567', '[Process', '12340', 'MainProcess', 'Thread-3]', '[tasks_mpi', 'submit]:', 'tidx', '273:', 'FFT', 'took', '0.7730s'] 0.773\n",
      "['INFO', '2020-05-27', '04:05:01,914,914', '[Process', '12340', 'MainProcess', 'Thread-1]', '[tasks_mpi', 'submit]:', 'tidx', '282:', 'FFT', 'took', '0.8308s'] 0.8308\n",
      "['INFO', '2020-05-27', '04:05:02,047,47', '[Process', '12340', 'MainProcess', 'Thread-2]', '[tasks_mpi', 'submit]:', 'tidx', '283:', 'FFT', 'took', '0.8197s'] 0.8197\n",
      "['INFO', '2020-05-27', '04:05:02,392,392', '[Process', '12340', 'MainProcess', 'Thread-4]', '[tasks_mpi', 'submit]:', 'tidx', '284:', 'FFT', 'took', '0.9301s'] 0.9301\n",
      "['INFO', '2020-05-27', '04:05:02,525,525', '[Process', '12340', 'MainProcess', 'Thread-3]', '[tasks_mpi', 'submit]:', 'tidx', '285:', 'FFT', 'took', '0.9517s'] 0.9517\n",
      "['INFO', '2020-05-27', '04:05:02,868,868', '[Process', '12340', 'MainProcess', 'Thread-1]', '[tasks_mpi', 'submit]:', 'tidx', '288:', 'FFT', 'took', '0.9449s'] 0.9449\n",
      "['INFO', '2020-05-27', '04:05:02,985,985', '[Process', '12340', 'MainProcess', 'Thread-2]', '[tasks_mpi', 'submit]:', 'tidx', '289:', 'FFT', 'took', '0.9315s'] 0.9315\n",
      "['INFO', '2020-05-27', '04:05:03,309,309', '[Process', '12340', 'MainProcess', 'Thread-4]', '[tasks_mpi', 'submit]:', 'tidx', '290:', 'FFT', 'took', '0.9118s'] 0.9118\n",
      "['INFO', '2020-05-27', '04:05:03,435,435', '[Process', '12340', 'MainProcess', 'Thread-3]', '[tasks_mpi', 'submit]:', 'tidx', '296:', 'FFT', 'took', '0.9037s'] 0.9037\n",
      "['INFO', '2020-05-27', '04:05:03,764,764', '[Process', '12340', 'MainProcess', 'Thread-1]', '[tasks_mpi', 'submit]:', 'tidx', '298:', 'FFT', 'took', '0.8874s'] 0.8874\n",
      "['INFO', '2020-05-27', '04:05:03,886,886', '[Process', '12340', 'MainProcess', 'Thread-2]', '[tasks_mpi', 'submit]:', 'tidx', '299:', 'FFT', 'took', '0.8940s'] 0.894\n",
      "['INFO', '2020-05-27', '04:05:04,105,105', '[Process', '12340', 'MainProcess', 'Thread-4]', '[tasks_mpi', 'submit]:', 'tidx', '303:', 'FFT', 'took', '0.7898s'] 0.7898\n",
      "['INFO', '2020-05-27', '04:05:04,439,439', '[Process', '12340', 'MainProcess', 'Thread-3]', '[tasks_mpi', 'submit]:', 'tidx', '304:', 'FFT', 'took', '0.9949s'] 0.9949\n",
      "['INFO', '2020-05-27', '04:05:04,622,622', '[Process', '12340', 'MainProcess', 'Thread-1]', '[tasks_mpi', 'submit]:', 'tidx', '305:', 'FFT', 'took', '0.8483s'] 0.8483\n",
      "['INFO', '2020-05-27', '04:05:04,777,777', '[Process', '12340', 'MainProcess', 'Thread-2]', '[tasks_mpi', 'submit]:', 'tidx', '310:', 'FFT', 'took', '0.8839s'] 0.8839\n",
      "['INFO', '2020-05-27', '04:05:05,015,15', '[Process', '12340', 'MainProcess', 'Thread-4]', '[tasks_mpi', 'submit]:', 'tidx', '315:', 'FFT', 'took', '0.9046s'] 0.9046\n",
      "['INFO', '2020-05-27', '04:05:05,255,255', '[Process', '12340', 'MainProcess', 'Thread-3]', '[tasks_mpi', 'submit]:', 'tidx', '316:', 'FFT', 'took', '0.8108s'] 0.8108\n",
      "['INFO', '2020-05-27', '04:05:05,511,511', '[Process', '12340', 'MainProcess', 'Thread-2]', '[tasks_mpi', 'submit]:', 'tidx', '318:', 'FFT', 'took', '0.7279s'] 0.7279\n",
      "['INFO', '2020-05-27', '04:05:05,729,729', '[Process', '12340', 'MainProcess', 'Thread-1]', '[tasks_mpi', 'submit]:', 'tidx', '317:', 'FFT', 'took', '0.9694s'] 0.9694\n",
      "['INFO', '2020-05-27', '04:05:05,933,933', '[Process', '12340', 'MainProcess', 'Thread-4]', '[tasks_mpi', 'submit]:', 'tidx', '319:', 'FFT', 'took', '0.9093s'] 0.9093\n",
      "['INFO', '2020-05-27', '04:05:06,052,52', '[Process', '12340', 'MainProcess', 'Thread-3]', '[tasks_mpi', 'submit]:', 'tidx', '320:', 'FFT', 'took', '0.6639s'] 0.6639\n",
      "['INFO', '2020-05-27', '04:05:06,365,365', '[Process', '12340', 'MainProcess', 'Thread-2]', '[tasks_mpi', 'submit]:', 'tidx', '326:', 'FFT', 'took', '0.8481s'] 0.8481\n",
      "['INFO', '2020-05-27', '04:05:06,600,600', '[Process', '12340', 'MainProcess', 'Thread-1]', '[tasks_mpi', 'submit]:', 'tidx', '327:', 'FFT', 'took', '0.8648s'] 0.8648\n",
      "['INFO', '2020-05-27', '04:05:06,807,807', '[Process', '12340', 'MainProcess', 'Thread-4]', '[tasks_mpi', 'submit]:', 'tidx', '329:', 'FFT', 'took', '0.8671s'] 0.8671\n",
      "['INFO', '2020-05-27', '04:05:07,041,41', '[Process', '12340', 'MainProcess', 'Thread-3]', '[tasks_mpi', 'submit]:', 'tidx', '334:', 'FFT', 'took', '0.9816s'] 0.9816\n",
      "['INFO', '2020-05-27', '04:05:07,164,164', '[Process', '12340', 'MainProcess', 'Thread-2]', '[tasks_mpi', 'submit]:', 'tidx', '335:', 'FFT', 'took', '0.7905s'] 0.7905\n",
      "['INFO', '2020-05-27', '04:05:07,374,374', '[Process', '12340', 'MainProcess', 'Thread-1]', '[tasks_mpi', 'submit]:', 'tidx', '336:', 'FFT', 'took', '0.7559s'] 0.7559\n",
      "['INFO', '2020-05-27', '04:05:07,689,689', '[Process', '12340', 'MainProcess', 'Thread-4]', '[tasks_mpi', 'submit]:', 'tidx', '338:', 'FFT', 'took', '0.8721s'] 0.8721\n",
      "['INFO', '2020-05-27', '04:05:07,815,815', '[Process', '12340', 'MainProcess', 'Thread-3]', '[tasks_mpi', 'submit]:', 'tidx', '347:', 'FFT', 'took', '0.7693s'] 0.7693\n",
      "['INFO', '2020-05-27', '04:05:08,120,120', '[Process', '12340', 'MainProcess', 'Thread-2]', '[tasks_mpi', 'submit]:', 'tidx', '352:', 'FFT', 'took', '0.9509s'] 0.9509\n",
      "['INFO', '2020-05-27', '04:05:08,243,243', '[Process', '12340', 'MainProcess', 'Thread-1]', '[tasks_mpi', 'submit]:', 'tidx', '353:', 'FFT', 'took', '0.8631s'] 0.8631\n"
     ]
    },
    {
     "name": "stdout",
     "output_type": "stream",
     "text": [
      "['INFO', '2020-05-27', '04:05:08,569,569', '[Process', '12340', 'MainProcess', 'Thread-4]', '[tasks_mpi', 'submit]:', 'tidx', '354:', 'FFT', 'took', '0.8726s'] 0.8726\n",
      "['INFO', '2020-05-27', '04:05:08,687,687', '[Process', '12340', 'MainProcess', 'Thread-3]', '[tasks_mpi', 'submit]:', 'tidx', '355:', 'FFT', 'took', '0.8653s'] 0.8653\n",
      "['INFO', '2020-05-27', '04:05:08,924,924', '[Process', '12340', 'MainProcess', 'Thread-2]', '[tasks_mpi', 'submit]:', 'tidx', '359:', 'FFT', 'took', '0.7991s'] 0.7991\n",
      "['INFO', '2020-05-27', '04:05:09,026,26', '[Process', '12340', 'MainProcess', 'Thread-1]', '[tasks_mpi', 'submit]:', 'tidx', '360:', 'FFT', 'took', '0.7764s'] 0.7764\n",
      "['INFO', '2020-05-27', '04:05:09,316,316', '[Process', '12340', 'MainProcess', 'Thread-4]', '[tasks_mpi', 'submit]:', 'tidx', '361:', 'FFT', 'took', '0.7417s'] 0.7417\n",
      "['INFO', '2020-05-27', '04:05:09,659,659', '[Process', '12340', 'MainProcess', 'Thread-3]', '[tasks_mpi', 'submit]:', 'tidx', '362:', 'FFT', 'took', '0.9638s'] 0.9638\n",
      "['INFO', '2020-05-27', '04:05:09,864,864', '[Process', '12340', 'MainProcess', 'Thread-2]', '[tasks_mpi', 'submit]:', 'tidx', '368:', 'FFT', 'took', '0.9294s'] 0.9294\n",
      "['INFO', '2020-05-27', '04:05:10,084,84', '[Process', '12340', 'MainProcess', 'Thread-1]', '[tasks_mpi', 'submit]:', 'tidx', '369:', 'FFT', 'took', '1.0511s'] 1.0511\n",
      "['INFO', '2020-05-27', '04:05:10,326,326', '[Process', '12340', 'MainProcess', 'Thread-4]', '[tasks_mpi', 'submit]:', 'tidx', '373:', 'FFT', 'took', '0.8895s'] 0.8895\n",
      "['INFO', '2020-05-27', '04:05:10,675,675', '[Process', '12340', 'MainProcess', 'Thread-3]', '[tasks_mpi', 'submit]:', 'tidx', '374:', 'FFT', 'took', '1.0077s'] 1.0077\n",
      "['INFO', '2020-05-27', '04:05:10,796,796', '[Process', '12340', 'MainProcess', 'Thread-2]', '[tasks_mpi', 'submit]:', 'tidx', '375:', 'FFT', 'took', '0.9258s'] 0.9258\n",
      "['INFO', '2020-05-27', '04:05:11,010,10', '[Process', '12340', 'MainProcess', 'Thread-1]', '[tasks_mpi', 'submit]:', 'tidx', '376:', 'FFT', 'took', '0.9194s'] 0.9194\n",
      "['INFO', '2020-05-27', '04:05:11,224,224', '[Process', '12340', 'MainProcess', 'Thread-4]', '[tasks_mpi', 'submit]:', 'tidx', '381:', 'FFT', 'took', '0.8924s'] 0.8924\n",
      "['INFO', '2020-05-27', '04:05:11,440,440', '[Process', '12340', 'MainProcess', 'Thread-3]', '[tasks_mpi', 'submit]:', 'tidx', '385:', 'FFT', 'took', '0.7597s'] 0.7597\n",
      "['INFO', '2020-05-27', '04:05:11,667,667', '[Process', '12340', 'MainProcess', 'Thread-2]', '[tasks_mpi', 'submit]:', 'tidx', '386:', 'FFT', 'took', '0.8661s'] 0.8661\n",
      "['INFO', '2020-05-27', '04:05:11,886,886', '[Process', '12340', 'MainProcess', 'Thread-1]', '[tasks_mpi', 'submit]:', 'tidx', '387:', 'FFT', 'took', '0.8674s'] 0.8674\n",
      "['INFO', '2020-05-27', '04:05:12,113,113', '[Process', '12340', 'MainProcess', 'Thread-4]', '[tasks_mpi', 'submit]:', 'tidx', '388:', 'FFT', 'took', '0.8827s'] 0.8827\n",
      "['INFO', '2020-05-27', '04:05:12,461,461', '[Process', '12340', 'MainProcess', 'Thread-3]', '[tasks_mpi', 'submit]:', 'tidx', '393:', 'FFT', 'took', '1.0139s'] 1.0139\n",
      "['INFO', '2020-05-27', '04:05:12,590,590', '[Process', '12340', 'MainProcess', 'Thread-2]', '[tasks_mpi', 'submit]:', 'tidx', '394:', 'FFT', 'took', '0.9163s'] 0.9163\n",
      "['INFO', '2020-05-27', '04:05:12,814,814', '[Process', '12340', 'MainProcess', 'Thread-4]', '[tasks_mpi', 'submit]:', 'tidx', '398:', 'FFT', 'took', '0.6961s'] 0.6961\n",
      "['INFO', '2020-05-27', '04:05:13,044,44', '[Process', '12340', 'MainProcess', 'Thread-1]', '[tasks_mpi', 'submit]:', 'tidx', '396:', 'FFT', 'took', '1.1528s'] 1.1528\n",
      "['INFO', '2020-05-27', '04:05:13,289,289', '[Process', '12340', 'MainProcess', 'Thread-2]', '[tasks_mpi', 'submit]:', 'tidx', '413:', 'FFT', 'took', '0.6924s'] 0.6924\n",
      "['INFO', '2020-05-27', '04:05:13,514,514', '[Process', '12340', 'MainProcess', 'Thread-3]', '[tasks_mpi', 'submit]:', 'tidx', '412:', 'FFT', 'took', '1.0348s'] 1.0348\n",
      "['INFO', '2020-05-27', '04:05:13,637,637', '[Process', '12340', 'MainProcess', 'Thread-1]', '[tasks_mpi', 'submit]:', 'tidx', '415:', 'FFT', 'took', '0.5871s'] 0.5871\n",
      "['INFO', '2020-05-27', '04:05:13,976,976', '[Process', '12340', 'MainProcess', 'Thread-4]', '[tasks_mpi', 'submit]:', 'tidx', '414:', 'FFT', 'took', '1.1559s'] 1.1559\n",
      "['INFO', '2020-05-27', '04:05:14,120,120', '[Process', '12340', 'MainProcess', 'Thread-3]', '[tasks_mpi', 'submit]:', 'tidx', '425:', 'FFT', 'took', '0.6004s'] 0.6004\n",
      "['INFO', '2020-05-27', '04:05:14,336,336', '[Process', '12340', 'MainProcess', 'Thread-2]', '[tasks_mpi', 'submit]:', 'tidx', '416:', 'FFT', 'took', '1.0375s'] 1.0375\n",
      "['INFO', '2020-05-27', '04:05:14,450,450', '[Process', '12340', 'MainProcess', 'Thread-1]', '[tasks_mpi', 'submit]:', 'tidx', '426:', 'FFT', 'took', '0.8038s'] 0.8038\n",
      "['INFO', '2020-05-27', '04:05:14,662,662', '[Process', '12340', 'MainProcess', 'Thread-4]', '[tasks_mpi', 'submit]:', 'tidx', '427:', 'FFT', 'took', '0.6810s'] 0.681\n",
      "['INFO', '2020-05-27', '04:05:14,881,881', '[Process', '12340', 'MainProcess', 'Thread-3]', '[tasks_mpi', 'submit]:', 'tidx', '428:', 'FFT', 'took', '0.7539s'] 0.7539\n",
      "['INFO', '2020-05-27', '04:05:15,267,267', '[Process', '12340', 'MainProcess', 'Thread-1]', '[tasks_mpi', 'submit]:', 'tidx', '435:', 'FFT', 'took', '0.8109s'] 0.8109\n",
      "['INFO', '2020-05-27', '04:05:15,381,381', '[Process', '12340', 'MainProcess', 'Thread-2]', '[tasks_mpi', 'submit]:', 'tidx', '434:', 'FFT', 'took', '1.0387s'] 1.0387\n",
      "['INFO', '2020-05-27', '04:05:15,484,484', '[Process', '12340', 'MainProcess', 'Thread-4]', '[tasks_mpi', 'submit]:', 'tidx', '437:', 'FFT', 'took', '0.8128s'] 0.8128\n",
      "['INFO', '2020-05-27', '04:05:15,696,696', '[Process', '12340', 'MainProcess', 'Thread-3]', '[tasks_mpi', 'submit]:', 'tidx', '438:', 'FFT', 'took', '0.6864s'] 0.6864\n",
      "['INFO', '2020-05-27', '04:05:15,926,926', '[Process', '12340', 'MainProcess', 'Thread-1]', '[tasks_mpi', 'submit]:', 'tidx', '439:', 'FFT', 'took', '0.6363s'] 0.6363\n",
      "['INFO', '2020-05-27', '04:05:16,195,195', '[Process', '12340', 'MainProcess', 'Thread-4]', '[tasks_mpi', 'submit]:', 'tidx', '445:', 'FFT', 'took', '0.7049s'] 0.7049\n",
      "['INFO', '2020-05-27', '04:05:16,410,410', '[Process', '12340', 'MainProcess', 'Thread-2]', '[tasks_mpi', 'submit]:', 'tidx', '444:', 'FFT', 'took', '1.0221s'] 1.0221\n",
      "['INFO', '2020-05-27', '04:05:16,522,522', '[Process', '12340', 'MainProcess', 'Thread-3]', '[tasks_mpi', 'submit]:', 'tidx', '446:', 'FFT', 'took', '0.8180s'] 0.818\n",
      "['INFO', '2020-05-27', '04:05:16,826,826', '[Process', '12340', 'MainProcess', 'Thread-1]', '[tasks_mpi', 'submit]:', 'tidx', '447:', 'FFT', 'took', '0.7682s'] 0.7682\n",
      "['INFO', '2020-05-27', '04:05:17,193,193', '[Process', '12340', 'MainProcess', 'Thread-4]', '[tasks_mpi', 'submit]:', 'tidx', '453:', 'FFT', 'took', '0.9885s'] 0.9885\n"
     ]
    }
   ],
   "source": [
    "with open(logfile_run3, \"r\") as df:\n",
    "    l0 = df.readline()\n",
    "    splits = l0.split()\n",
    "    print(splits)\n",
    "    # There is a , that needs to be removed\n",
    "    fix_mus = splits[2].replace(\",\", \".\", 1)\n",
    "    fix_mus = fix_mus.replace(\",\", \"\")\n",
    "    toff_run3 = datetime.datetime.strptime(splits[1] + \" \" + fix_mus, \"%Y-%m-%d %H:%M:%S.%f\") \n",
    "    \n",
    "    for line in df:\n",
    "        if \"FFT took\" in line:\n",
    "            splits = line.split()\n",
    "            fix_mus = splits[2].replace(\",\", \".\", 1)\n",
    "            fix_mus = fix_mus.replace(\",\", \"\")\n",
    "            time_log = datetime.datetime.strptime(splits[1] + \" \" + fix_mus, \"%Y-%m-%d %H:%M:%S.%f\") \n",
    "            tidx = int(splits[10][:-1])\n",
    "            time_fft = float(splits[13][:-1])\n",
    "            print(splits, time_fft)\n",
    "            \n",
    "            \n",
    "            new_row = {\"time_log\": time_log - toff_run3, \"tidx\":int(splits[10][:-1]), \n",
    "                       \"time_fft\": datetime.timedelta(seconds=float(splits[13][:-1])),\n",
    "                       \"mode\": \"3node\"}\n",
    "            dframe = dframe.append(new_row, ignore_index=True)"
   ]
  },
  {
   "cell_type": "code",
   "execution_count": null,
   "metadata": {},
   "outputs": [],
   "source": []
  },
  {
   "cell_type": "code",
   "execution_count": 103,
   "metadata": {},
   "outputs": [
    {
     "data": {
      "text/html": [
       "<div>\n",
       "<style scoped>\n",
       "    .dataframe tbody tr th:only-of-type {\n",
       "        vertical-align: middle;\n",
       "    }\n",
       "\n",
       "    .dataframe tbody tr th {\n",
       "        vertical-align: top;\n",
       "    }\n",
       "\n",
       "    .dataframe thead th {\n",
       "        text-align: right;\n",
       "    }\n",
       "</style>\n",
       "<table border=\"1\" class=\"dataframe\">\n",
       "  <thead>\n",
       "    <tr style=\"text-align: right;\">\n",
       "      <th></th>\n",
       "      <th>time_log</th>\n",
       "      <th>tidx</th>\n",
       "      <th>time_fft</th>\n",
       "      <th>mode</th>\n",
       "    </tr>\n",
       "  </thead>\n",
       "  <tbody>\n",
       "    <tr>\n",
       "      <th>500</th>\n",
       "      <td>00:00:16.251558</td>\n",
       "      <td>2</td>\n",
       "      <td>00:00:01.353000</td>\n",
       "      <td>2node</td>\n",
       "    </tr>\n",
       "    <tr>\n",
       "      <th>501</th>\n",
       "      <td>00:00:16.414415</td>\n",
       "      <td>0</td>\n",
       "      <td>00:00:01.621000</td>\n",
       "      <td>2node</td>\n",
       "    </tr>\n",
       "    <tr>\n",
       "      <th>502</th>\n",
       "      <td>00:00:17.445446</td>\n",
       "      <td>1</td>\n",
       "      <td>00:00:02.603200</td>\n",
       "      <td>2node</td>\n",
       "    </tr>\n",
       "    <tr>\n",
       "      <th>503</th>\n",
       "      <td>00:00:17.804805</td>\n",
       "      <td>4</td>\n",
       "      <td>00:00:00.634100</td>\n",
       "      <td>2node</td>\n",
       "    </tr>\n",
       "    <tr>\n",
       "      <th>504</th>\n",
       "      <td>00:00:19.532533</td>\n",
       "      <td>3</td>\n",
       "      <td>00:00:04.580800</td>\n",
       "      <td>2node</td>\n",
       "    </tr>\n",
       "    <tr>\n",
       "      <th>...</th>\n",
       "      <td>...</td>\n",
       "      <td>...</td>\n",
       "      <td>...</td>\n",
       "      <td>...</td>\n",
       "    </tr>\n",
       "    <tr>\n",
       "      <th>813</th>\n",
       "      <td>00:01:35.656657</td>\n",
       "      <td>494</td>\n",
       "      <td>00:00:00.802700</td>\n",
       "      <td>2node</td>\n",
       "    </tr>\n",
       "    <tr>\n",
       "      <th>814</th>\n",
       "      <td>00:01:35.780781</td>\n",
       "      <td>495</td>\n",
       "      <td>00:00:00.802800</td>\n",
       "      <td>2node</td>\n",
       "    </tr>\n",
       "    <tr>\n",
       "      <th>815</th>\n",
       "      <td>00:01:36.102102</td>\n",
       "      <td>497</td>\n",
       "      <td>00:00:00.775700</td>\n",
       "      <td>2node</td>\n",
       "    </tr>\n",
       "    <tr>\n",
       "      <th>816</th>\n",
       "      <td>00:01:36.347348</td>\n",
       "      <td>498</td>\n",
       "      <td>00:00:00.833600</td>\n",
       "      <td>2node</td>\n",
       "    </tr>\n",
       "    <tr>\n",
       "      <th>817</th>\n",
       "      <td>00:01:36.618619</td>\n",
       "      <td>499</td>\n",
       "      <td>00:00:00.956400</td>\n",
       "      <td>2node</td>\n",
       "    </tr>\n",
       "  </tbody>\n",
       "</table>\n",
       "<p>318 rows × 4 columns</p>\n",
       "</div>"
      ],
      "text/plain": [
       "           time_log tidx        time_fft   mode\n",
       "500 00:00:16.251558    2 00:00:01.353000  2node\n",
       "501 00:00:16.414415    0 00:00:01.621000  2node\n",
       "502 00:00:17.445446    1 00:00:02.603200  2node\n",
       "503 00:00:17.804805    4 00:00:00.634100  2node\n",
       "504 00:00:19.532533    3 00:00:04.580800  2node\n",
       "..              ...  ...             ...    ...\n",
       "813 00:01:35.656657  494 00:00:00.802700  2node\n",
       "814 00:01:35.780781  495 00:00:00.802800  2node\n",
       "815 00:01:36.102102  497 00:00:00.775700  2node\n",
       "816 00:01:36.347348  498 00:00:00.833600  2node\n",
       "817 00:01:36.618619  499 00:00:00.956400  2node\n",
       "\n",
       "[318 rows x 4 columns]"
      ]
     },
     "execution_count": 103,
     "metadata": {},
     "output_type": "execute_result"
    }
   ],
   "source": [
    "dframe[dframe[\"mode\"] == \"2node\"]"
   ]
  },
  {
   "cell_type": "code",
   "execution_count": 74,
   "metadata": {
    "scrolled": false
   },
   "outputs": [
    {
     "data": {
      "image/png": "[encoded data removed]",
      "text/plain": [
       "<Figure size 432x288 with 1 Axes>"
      ]
     },
     "metadata": {
      "needs_background": "light"
     },
     "output_type": "display_data"
    }
   ],
   "source": [
    "fig, ax = plt.subplots()\n",
    "\n",
    "for index, row in dframe.iterrows():\n",
    "    toff = row.time_log.seconds + row.time_log.microseconds * 1e-6\n",
    "    tdelta = row.time_fft.seconds + row.time_fft.microseconds * 1e-6\n",
    "\n",
    "    fc = None\n",
    "    if row[\"mode\"] == \"bp4\":\n",
    "        fc = \"C0\"        \n",
    "    elif row[\"mode\"] == \"2node\":\n",
    "        fc = \"C1\"\n",
    "    elif row[\"mode\"] == \"3node\":\n",
    "        fc = \"C2\"\n",
    "    \n",
    "    ax.broken_barh([(toff, tdelta)], (row.tidx, 1), facecolors=fc)"
   ]
  },
  {
   "cell_type": "code",
   "execution_count": 75,
   "metadata": {},
   "outputs": [],
   "source": [
    "dframe[\"time_fft_secs\"] = dframe[\"time_fft\"].apply(lambda x: x.seconds + x.microseconds * 1e-6)"
   ]
  },
  {
   "cell_type": "code",
   "execution_count": 102,
   "metadata": {},
   "outputs": [
    {
     "data": {
      "text/plain": [
       "0      00:00:01.237000\n",
       "1      00:00:01.514600\n",
       "2      00:00:01.849800\n",
       "3      00:00:01.073900\n",
       "4      00:00:00.783600\n",
       "             ...      \n",
       "999    00:00:00.704900\n",
       "1000   00:00:01.022100\n",
       "1001   00:00:00.818000\n",
       "1002   00:00:00.768200\n",
       "1003   00:00:00.988500\n",
       "Name: time_fft, Length: 1004, dtype: timedelta64[ns]"
      ]
     },
     "execution_count": 102,
     "metadata": {},
     "output_type": "execute_result"
    }
   ],
   "source": [
    "dframe[\"time_fft\"]"
   ]
  },
  {
   "cell_type": "code",
   "execution_count": 76,
   "metadata": {},
   "outputs": [
    {
     "data": {
      "text/plain": [
       "[Text(0, 0, 'file'), Text(0, 0, '2-node'), Text(0, 0, '3-node')]"
      ]
     },
     "execution_count": 76,
     "metadata": {},
     "output_type": "execute_result"
    },
    {
     "data": {
      "image/png": "[encoded data removed]",
      "text/plain": [
       "<Figure size 432x288 with 1 Axes>"
      ]
     },
     "metadata": {
      "needs_background": "light"
     },
     "output_type": "display_data"
    }
   ],
   "source": [
    "\n",
    "\n",
    "ax = sns.violinplot(x=\"mode\", y=\"time_fft_secs\", data=dframe)\n",
    "ax.set(ylabel=r\"$t_{\\mathrm{FFT}} / \\mathrm{s}$\", xlabel=\"\")\n",
    "ax.set_xticklabels([\"file\", \"2-node\", \"3-node\"])"
   ]
  },
  {
   "cell_type": "code",
   "execution_count": 77,
   "metadata": {},
   "outputs": [],
   "source": []
  },
  {
   "cell_type": "code",
   "execution_count": 104,
   "metadata": {},
   "outputs": [],
   "source": [
    "ll = [0, 1, 2, 3, 4, 5, 6, 7, 8, 9, 10, 11, 12, 13, 14, 15, 16, 17, 18, 19, 20, 21, 22, 23, 24, 25, 26, 27, 28, 29, 30, 31, 32, 33, 40, 41, 42, 47, 59, 68, 69, 70, 71, 72, 73, 74, 75, 76, 77, 78, 79, 80, 81, 82, 83, 84, 85, 86, 87, 88, 98, 99, 103, 104, 105, 106, 107, 108, 109, 110, 111, 112, 113, 114, 119, 126, 127, 128, 132, 133, 142, 143, 144, 151, 152, 153, 154, 155, 163, 168, 169, 170, 175, 176, 177, 178, 183, 187, 188, 191, 192, 198, 199, 200, 202, 203, 208, 209, 215, 216, 217, 222, 227, 232, 233, 234, 239, 240, 242, 243, 244, 249, 250, 251, 257, 258, 259, 260, 265, 266, 267, 275, 276, 277, 283, 284, 285, 286, 288, 289, 290, 300, 302, 303, 310, 311, 313, 314, 319, 320, 321, 323, 328, 337, 339, 340, 341, 342, 343, 344, 345, 351, 352, 353, 363, 367, 368, 369, 370, 371, 376, 381, 386, 388, 392, 393, 394, 400, 401, 410, 411, 412, 413, 419, 420, 422, 436, 437, 438, 440, 441, 446, 451] "
   ]
  },
  {
   "cell_type": "code",
   "execution_count": 105,
   "metadata": {},
   "outputs": [
    {
     "data": {
      "text/plain": [
       "193"
      ]
     },
     "execution_count": 105,
     "metadata": {},
     "output_type": "execute_result"
    }
   ],
   "source": [
    "len(ll)"
   ]
  },
  {
   "cell_type": "code",
   "execution_count": null,
   "metadata": {},
   "outputs": [],
   "source": []
  }
 ],
 "metadata": {
  "kernelspec": {
   "display_name": "Python 3",
   "language": "python",
   "name": "python3"
  },
  "language_info": {
   "codemirror_mode": {
    "name": "ipython",
    "version": 3
   },
   "file_extension": ".py",
   "mimetype": "text/x-python",
   "name": "python",
   "nbconvert_exporter": "python",
   "pygments_lexer": "ipython3",
   "version": "3.8.1"
  }
 },
 "nbformat": 4,
 "nbformat_minor": 2
}
