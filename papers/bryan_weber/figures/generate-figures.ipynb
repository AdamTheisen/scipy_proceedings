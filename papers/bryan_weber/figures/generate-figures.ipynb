{
 "cells": [
  {
   "cell_type": "code",
   "execution_count": 1,
   "metadata": {
    "collapsed": false
   },
   "outputs": [],
   "source": [
    "from scipy import signal\n",
    "from scipy.fftpack import fft\n",
    "import uconnrcmpy as ucr\n",
    "import numpy as np\n",
    "from pathlib import Path\n",
    "from subprocess import run\n",
    "import matplotlib.pyplot as plt\n",
    "from mpl_toolkits.axes_grid1.inset_locator import zoomed_inset_axes, mark_inset, BboxConnector\n",
    "\n",
    "# %matplotlib"
   ]
  },
  {
   "cell_type": "code",
   "execution_count": 2,
   "metadata": {
    "collapsed": false
   },
   "outputs": [],
   "source": [
    "plt.rc('font', family='serif', serif='Times New Roman', size=22.0)\n",
    "dpi = '300'"
   ]
  },
  {
   "cell_type": "markdown",
   "metadata": {},
   "source": [
    "# Draw the Raw Voltage Trace figure"
   ]
  },
  {
   "cell_type": "code",
   "execution_count": null,
   "metadata": {
    "collapsed": false
   },
   "outputs": [],
   "source": [
    "volt_trace = ucr.traces.VoltageTrace(Path('10_in_00_mm_333K-979t-100x-13-Jul-15-1349.txt'))\n",
    "raw_fig, raw_ax = plt.subplots(figsize=[14, 9])\n",
    "raw_ax.plot(volt_trace.time*1000, volt_trace.signal[:, 1], label=\"Original\")\n",
    "raw_ax.plot(volt_trace.time*1000, volt_trace.filtered_voltage, label=\"Filtered\")\n",
    "raw_ax.plot(volt_trace.time*1000, volt_trace.smoothed_voltage, label=\"Filtered & Smoothed\")\n",
    "raw_ax.set_xlim([160, 240])\n",
    "raw_ax.set_ylim([-0.01, 1.01])\n",
    "raw_ax.set_xlabel('Time [ms]')\n",
    "raw_ax.set_ylabel('Voltage [V]')\n",
    "raw_ax_legend = raw_ax.legend(bbox_to_anchor=(0., 1.02, 1., .102), loc=3,\n",
    "                              ncol=3, mode=\"expand\", borderaxespad=0.)\n",
    "\n",
    "for leg in raw_ax_legend.legendHandles:\n",
    "    leg.set_linewidth(2.0)\n",
    "\n",
    "# Create the zoomed inset\n",
    "raw_inset = zoomed_inset_axes(raw_ax, 18, loc=6, bbox_to_anchor=raw_ax.transData.transform((165, 0.6)))\n",
    "raw_inset.plot(volt_trace.time*1000, volt_trace.signal[:, 1])\n",
    "raw_inset.plot(volt_trace.time*1000, volt_trace.filtered_voltage, linewidth=3.0)\n",
    "raw_inset.plot(volt_trace.time*1000, volt_trace.smoothed_voltage)\n",
    "raw_inset.set_xlim([190.5, 194])\n",
    "raw_inset.set_ylim([0.27, 0.29])\n",
    "xticks = raw_inset.get_xticks()\n",
    "raw_inset.set_xticks(xticks[1:-1])\n",
    "\n",
    "pp, p1, p2 = mark_inset(raw_ax, raw_inset, loc1=3, loc2=4, fc=\"none\", ec=\"0.5\")\n",
    "\n",
    "fig_name = 'raw-voltage'\n",
    "\n",
    "raw_fig.savefig(fig_name + '.pdf', bbox_inches='tight')\n",
    "run(['convert', '-density', dpi, fig_name + '.pdf', fig_name + '.png'])\n",
    "\n",
    "# This gets drawn in front of the inset axes, when it should be behind for the proper effect :(\n",
    "# p3 = BboxConnector(raw_inset.bbox, pp.bbox, loc1=2, loc2=2, fc=\"none\", ec=\"0.5\")\n",
    "# raw_inset.add_patch(p3)\n",
    "# p3.set_clip_on(False)"
   ]
  },
  {
   "cell_type": "markdown",
   "metadata": {},
   "source": [
    "# Plot the 2-stage ignition case"
   ]
  },
  {
   "cell_type": "code",
   "execution_count": null,
   "metadata": {
    "collapsed": false
   },
   "outputs": [],
   "source": [
    "expt = ucr.dataprocessing.Experiment(Path('00_in_02_mm_373K-1282t-100x-19-Jul-15-1633.txt'))\n",
    "nr_expt = ucr.dataprocessing.Experiment(Path('NR_00_in_02_mm_373K-1278t-100x-19-Jul-15-1652.txt'))"
   ]
  },
  {
   "cell_type": "code",
   "execution_count": null,
   "metadata": {
    "collapsed": false
   },
   "outputs": [],
   "source": [
    "ign_fig, pressure_ax = plt.subplots(figsize=[14, 9])\n",
    "pressure_ax.plot(expt.pressure_trace.zeroed_time*1000,\n",
    "                 expt.pressure_trace.pressure,\n",
    "                 linewidth=1.5, label=\"Pressure\")\n",
    "pressure_ax.plot(nr_expt.pressure_trace.zeroed_time*1000,\n",
    "                 nr_expt.pressure_trace.pressure,\n",
    "                 linewidth=1.5, label=\"Non-Reactive Pressure\")\n",
    "dpdt_ax = pressure_ax.twinx()\n",
    "dpdt_ax.plot(expt.pressure_trace.zeroed_time*1000,\n",
    "             expt.pressure_trace.smoothed_derivative/1000,\n",
    "             'r', linewidth=1.5, label=\"Time Derivative of Pressure\")\n",
    "\n",
    "dpdt_ax.set_ylim(-0.25, 3)\n",
    "dpdt_ax.set_ylabel('Time Derivative of Pressure [bar/ms]')\n",
    "\n",
    "pressure_ax.axvline(x=0, color='k', ymax=0.52, linewidth=1.5)\n",
    "pressure_ax.axvline(x=expt.ignition_delay, color='k', linewidth=1.5)\n",
    "pressure_ax.axvline(x=expt.first_stage, color='k', ymax=0.25, linewidth=1.5)\n",
    "pressure_ax.annotate('', xy=(0, 10), xycoords='data', xytext=(expt.first_stage, 10), textcoords='data',\n",
    "                     arrowprops={'arrowstyle': '<|-|>', 'shrinkA': 0, 'shrinkB': 0, 'fc': 'black', 'linewidth': 1.5})\n",
    "pressure_ax.annotate('$τ_1$', xy=(expt.first_stage/2, 10), xycoords='data', xytext=(0, 10), textcoords='offset points')\n",
    "pressure_ax.annotate('$τ$', xy=(expt.ignition_delay/2, 20), xycoords='data', xytext=(0, 10), textcoords='offset points')\n",
    "pressure_ax.annotate('', xy=(0, 20), xycoords='data', xytext=(expt.ignition_delay, 20), textcoords='data',\n",
    "                     arrowprops={'arrowstyle': '<|-|>', 'shrinkA': 0, 'shrinkB': 0, 'fc': 'black', 'linewidth': 1.5})\n",
    "pressure_ax.annotate('EOC', xy=(0, 31.5), xycoords='data')\n",
    "pressure_ax.annotate('', xy=(-4, 15), xycoords='data', xytext=(-17, 15), textcoords='data',\n",
    "                     arrowprops={'arrowstyle': '<|-', 'shrinkA': 0, 'shrinkB': 0, 'fc': 'black', 'linewidth': 1.5})\n",
    "dpdt_ax.annotate('', xy=(-1, 1.75), xycoords='data', xytext=(12, 1.75), textcoords='data',\n",
    "                 arrowprops={'arrowstyle': '<|-', 'shrinkA': 0, 'shrinkB': 0, 'fc': 'black', 'linewidth': 1.5})\n",
    "pressure_ax.set_ylim(0, 60)\n",
    "pressure_ax.set_xlim(-30, 70)\n",
    "pressure_ax.set_xlabel('Time [ms]')\n",
    "pressure_ax.set_ylabel('Pressure [bar]')\n",
    "\n",
    "lin_1, leg_1 = pressure_ax.get_legend_handles_labels()\n",
    "lin_2, leg_2 = dpdt_ax.get_legend_handles_labels()\n",
    "dpdt_ax_legend = dpdt_ax.legend(lin_1 + lin_2, leg_1 + leg_2, bbox_to_anchor=(0.85, 0.95))\n",
    "\n",
    "for leg in dpdt_ax_legend.legendHandles:\n",
    "    leg.set_linewidth(2.0)\n",
    "\n",
    "fig_name = 'ign-delay-def'\n",
    "\n",
    "ign_fig.savefig(fig_name + '.pdf', bbox_inches='tight')\n",
    "run(['convert', '-density', dpi, fig_name + '.pdf', fig_name + '.png'])\n",
    "# pressure_inset = zoomed_inset_axes(pressure_ax, 4, loc=9)\n",
    "# pressure_inset.plot(expt.pressure_trace.zeroed_time*1000, expt.pressure_trace.pressure)\n",
    "# pressure_inset.set_xlim(30, 40)\n",
    "# pressure_inset.set_ylim(27, 30)\n",
    "\n",
    "# dpdt_inset = pressure_inset.twinx()\n",
    "# dpdt_inset.plot(expt.pressure_trace.zeroed_time*1000, expt.pressure_trace.smoothed_derivative/1000, 'g')\n",
    "# # dpdt_inset.set_ylim(0, 5)\n"
   ]
  },
  {
   "cell_type": "markdown",
   "metadata": {},
   "source": [
    "# Draw the frequency spectrum"
   ]
  },
  {
   "cell_type": "code",
   "execution_count": null,
   "metadata": {
    "collapsed": false
   },
   "outputs": [],
   "source": [
    "volt_trace = ucr.traces.VoltageTrace(Path('10_in_00_mm_333K-979t-100x-13-Jul-15-1349.txt'))\n",
    "samp_freq = np.ceil(1/volt_trace.time[1])\n",
    "\n",
    "freq_fig, freq_ax = plt.subplots(figsize=[14, 9])    \n",
    "f, orig_den = signal.welch(volt_trace.signal[:, 1], fs=samp_freq, nperseg=2**14)\n",
    "freq_ax.plot(f, orig_den, label='Original')\n",
    "f, filt_den = signal.welch(volt_trace.filtered_voltage, fs=samp_freq, nperseg=2**14)\n",
    "freq_ax.plot(f, filt_den, label='Filtered')\n",
    "f, sm_den = signal.welch(volt_trace.smoothed_voltage, fs=samp_freq, nperseg=2**14)\n",
    "freq_ax.plot(f, sm_den, label='Filtered & Smoothed')\n",
    "\n",
    "freq_ax.set_ylim(1.0E-19, 1.0E-4)\n",
    "freq_ax.set_ylabel('Power Spectral Density [W/Hz]')\n",
    "freq_ax.set_xlabel('Frequency [Hz]')\n",
    "freq_ax.set_yscale('log')\n",
    "freq_ax_legend = freq_ax.legend(loc='best')\n",
    "\n",
    "for leg in freq_ax_legend.legendHandles:\n",
    "    leg.set_linewidth(2.0)\n",
    "\n",
    "fig_name = 'frequency'\n",
    "\n",
    "freq_fig.savefig(fig_name + '.pdf', bbox_inches='tight')\n",
    "run(['convert', '-density', dpi, fig_name + '.pdf', fig_name + '.png'])"
   ]
  },
  {
   "cell_type": "markdown",
   "metadata": {},
   "source": [
    "# Run the Example"
   ]
  },
  {
   "cell_type": "code",
   "execution_count": 3,
   "metadata": {
    "collapsed": false
   },
   "outputs": [
    {
     "name": "stdout",
     "output_type": "stream",
     "text": [
      "759\t46.116253\n"
     ]
    }
   ],
   "source": [
    "# %matplotlib inline\n",
    "x_lo = -0.04\n",
    "x_hi = 0.075\n",
    "cond_00_in_02_mm = ucr.Condition()\n",
    "cond_00_in_02_mm.add_experiment(Path('00_in_02_mm_373K-1285t-100x-19-Jul-15-1620.txt'))\n",
    "cond_00_in_02_mm.add_experiment(Path('00_in_02_mm_373K-1282t-100x-19-Jul-15-1626.txt'))\n",
    "cond_00_in_02_mm.add_experiment(Path('00_in_02_mm_373K-1282t-100x-19-Jul-15-1633.txt'))\n",
    "cond_00_in_02_mm.add_experiment(Path('00_in_02_mm_373K-1282t-100x-19-Jul-15-1640.txt'))\n",
    "cond_00_in_02_mm.add_experiment(Path('00_in_02_mm_373K-1282t-100x-19-Jul-15-1646.txt'))\n",
    "cond_00_in_02_mm.add_experiment(Path('NR_00_in_02_mm_373K-1278t-100x-19-Jul-15-1652.txt'))\n",
    "cond_00_in_02_mm.create_volume_trace()\n",
    "cond_00_in_02_mm.compare_to_sim(run_reactive=True, run_nonreactive=True)"
   ]
  },
  {
   "cell_type": "code",
   "execution_count": null,
   "metadata": {
    "collapsed": false
   },
   "outputs": [],
   "source": [
    "fig_name = 'all-runs'\n",
    "cond_00_in_02_mm.all_runs_figure.set_size_inches(14, 9)\n",
    "cond_00_in_02_mm.all_runs_axis.set_xlim(x_lo, x_hi)\n",
    "cond_00_in_02_mm.all_runs_figure.savefig(fig_name + '.pdf', bbox_inches='tight')\n",
    "run(['convert', '-density', dpi, fig_name + '.pdf', fig_name + '.png'])"
   ]
  },
  {
   "cell_type": "code",
   "execution_count": null,
   "metadata": {
    "collapsed": false
   },
   "outputs": [],
   "source": [
    "fig_name = 'one-run'\n",
    "exp_fig = cond_00_in_02_mm.reactive_experiments['00_in_02_mm_373K-1282t-100x-19-Jul-15-1633.txt'].exp_fig\n",
    "exp_fig.set_size_inches(14, 9)\n",
    "cond_00_in_02_mm.reactive_experiments['00_in_02_mm_373K-1282t-100x-19-Jul-15-1633.txt'].p_axis.set_xlim(x_lo, x_hi)\n",
    "exp_fig.savefig(fig_name + '.pdf', bbox_inches='tight')\n",
    "run(['convert', '-density', dpi, fig_name + '.pdf', fig_name + '.png'])"
   ]
  },
  {
   "cell_type": "code",
   "execution_count": null,
   "metadata": {
    "collapsed": false
   },
   "outputs": [],
   "source": [
    "fig_name = 'nonreactive-run'\n",
    "cond_00_in_02_mm.nonreactive_figure.set_size_inches(14, 9)\n",
    "cond_00_in_02_mm.nonreactive_axis.set_xlim(x_lo, x_hi)\n",
    "cond_00_in_02_mm.nonreactive_figure.savefig(fig_name + '.pdf', bbox_inches='tight')\n",
    "run(['convert', '-density', dpi, fig_name + '.pdf', fig_name + '.png'])"
   ]
  },
  {
   "cell_type": "code",
   "execution_count": null,
   "metadata": {
    "collapsed": false
   },
   "outputs": [],
   "source": [
    "fig_name = 'pressure-comparison'\n",
    "cond_00_in_02_mm.pressure_comparison_figure.set_size_inches(14, 9)\n",
    "cond_00_in_02_mm.pressure_comparison_axis.set_xlim(-0.036, -0.023)\n",
    "cond_00_in_02_mm.pressure_comparison_axis.set_ylim(1.68, 1.85)\n",
    "cond_00_in_02_mm.pressure_comparison_figure.savefig(fig_name + '.pdf', bbox_inches='tight')\n",
    "run(['convert', '-density', dpi, fig_name + '.pdf', fig_name + '.png'])"
   ]
  },
  {
   "cell_type": "code",
   "execution_count": 5,
   "metadata": {
    "collapsed": false
   },
   "outputs": [
    {
     "data": {
      "text/plain": [
       "CompletedProcess(args=['convert', '-density', '300', 'simulation-comparison.pdf', 'simulation-comparison.png'], returncode=0)"
      ]
     },
     "execution_count": 5,
     "metadata": {},
     "output_type": "execute_result"
    }
   ],
   "source": [
    "fig_name = 'simulation-comparison'\n",
    "cond_00_in_02_mm.simulation_figure.set_size_inches(14, 9)\n",
    "cond_00_in_02_mm.simulation_axis.set_xlim(x_lo*1000, x_hi*1000)\n",
    "cond_00_in_02_mm.simulation_axis.legend(loc='best')\n",
    "cond_00_in_02_mm.simulation_figure.savefig(fig_name + '.pdf', bbox_inches='tight')\n",
    "run(['convert', '-density', dpi, fig_name + '.pdf', fig_name + '.png'])"
   ]
  }
 ],
 "metadata": {
  "kernelspec": {
   "display_name": "Python 3",
   "language": "python",
   "name": "python3"
  },
  "language_info": {
   "codemirror_mode": {
    "name": "ipython",
    "version": 3
   },
   "file_extension": ".py",
   "mimetype": "text/x-python",
   "name": "python",
   "nbconvert_exporter": "python",
   "pygments_lexer": "ipython3",
   "version": "3.5.1"
  }
 },
 "nbformat": 4,
 "nbformat_minor": 0
}
