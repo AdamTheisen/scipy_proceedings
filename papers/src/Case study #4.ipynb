{
 "metadata": {
  "name": "",
  "signature": "sha256:e7fc78f2715a48375441c7bd0079329597cbdbb4a773bb8b652c0b75a6e0e552"
 },
 "nbformat": 3,
 "nbformat_minor": 0,
 "worksheets": [
  {
   "cells": [
    {
     "cell_type": "markdown",
     "metadata": {},
     "source": [
      "#Case Study 4 : Yelp Dataset Challenge\n",
      "** Due Date: Dec 8, 11:59PM for Tuesday/Friday Section**\n",
      "\n",
      "** Due Date: Dec. 8, 5:30PM for Monday Section**\n",
      "\n",
      "*------------"
     ]
    },
    {
     "cell_type": "markdown",
     "metadata": {},
     "source": [
      "**TEAM Members:** Please EDIT this cell and add the names of all the team members in your team\n",
      "\n",
      "    member 1\n",
      "    \n",
      "    member 2\n",
      "    \n",
      "    ..."
     ]
    },
    {
     "cell_type": "markdown",
     "metadata": {},
     "source": [
      "\n",
      "\n",
      "** NOTE **\n",
      "* Please don't forget to save the notebook frequently when working in IPython Notebook, otherwise the changes you made can be lost.\n",
      "* This case study is relatively longer than the previous case studies. But you can bollow many ideas from the previous case studies.\n",
      "\n",
      "*----------------------"
     ]
    },
    {
     "cell_type": "heading",
     "level": 1,
     "metadata": {},
     "source": [
      "Problem 1: Data Collection"
     ]
    },
    {
     "cell_type": "markdown",
     "metadata": {},
     "source": [
      "* Download the Yelp Dataset from the http://www.yelp.com/dataset_challenge (Click \"Get the Data\", and register to get data)\n",
      "This data set contains information about 42,153 business, 252,898  users, and 1,125,458 reviews in Phoenix, Las Vegas, Madison, Waterloo and Edinburgh. \n",
      "\n",
      "* Preprocessing can be time consuming but is critical for analyzing big data.\n",
      "\n",
      "* Let's first take a look at the data by loading the json files into IPython notebook \n",
      "* NOTE: the whole dataset can be too big for your computer. If the following codes don't work in your computer, try changing the code by  loading only a few lines of each file."
     ]
    },
    {
     "cell_type": "code",
     "collapsed": false,
     "input": [
      "import json\n",
      "#  Business Data\n",
      "file_business = open('yelp_academic_dataset_business.json')\n",
      "data_business = [json.loads(line) for line in file_business]\n",
      "print \"total number of business: \",len(data_business)\n",
      "print json.dumps(data_business[10000],indent=4)"
     ],
     "language": "python",
     "metadata": {},
     "outputs": []
    },
    {
     "cell_type": "code",
     "collapsed": false,
     "input": [
      "#  User Data\n",
      "file_user = open('yelp_academic_dataset_user.json')\n",
      "data_user = [json.loads(line) for line in file_user]\n",
      "print \"total number of users: \",len(data_user)\n",
      "print json.dumps(data_user[20000],indent=4)"
     ],
     "language": "python",
     "metadata": {},
     "outputs": []
    },
    {
     "cell_type": "code",
     "collapsed": false,
     "input": [
      "#  Review Data\n",
      "file_review = open('yelp_academic_dataset_review.json')\n",
      "data_review = [json.loads(line) for line in file_review]\n",
      "print \"total number of reviews: \",len(data_review)\n",
      "print json.dumps(data_review[20000],indent=4)"
     ],
     "language": "python",
     "metadata": {},
     "outputs": []
    },
    {
     "cell_type": "markdown",
     "metadata": {},
     "source": [
      "## Question 1: Choose a business category\n",
      "* Select one business *category* that you are interested in, for example, \"Restaurants\", \"Bars\", \"Shopping\", \"Hotels\" or \"Auto Repair\". (Hint: check the **categories** field of each business object.)\n",
      "* Collect all the business entities of the category you selected from the whole dataset. (It would be recommended that the number of business of the category should be larger than 500.) For example, collect all the restaurants, i.e., all the business objects that have \"Restaurants\" in their \"categories\" lists.\n",
      "* Store the business data you collected into a local file (txt file or json file) "
     ]
    },
    {
     "cell_type": "code",
     "collapsed": false,
     "input": [
      "# Your code here\n",
      "\n",
      "\n",
      "\n",
      "\n",
      "\n",
      "\n",
      "\n"
     ],
     "language": "python",
     "metadata": {},
     "outputs": [],
     "prompt_number": 52
    },
    {
     "cell_type": "markdown",
     "metadata": {},
     "source": [
      "###Report some statistics about the business you collected \n",
      "\n",
      "* The category of interest: **[PLEASE CHANGE THIS PART]**\n",
      "\n",
      "\n",
      "* The total number of business collected: **[PLEASE CHANGE THIS PART]**\n",
      "\n",
      "\n",
      "\n",
      "*----------------------\n",
      "\n",
      "* Plot a histogram of different number of stars for the above business set.\n"
     ]
    },
    {
     "cell_type": "code",
     "collapsed": false,
     "input": [
      "# Please plot a histogram of number of stars for the business set\n",
      "# your code here\n",
      "\n",
      "\n",
      "\n",
      "\n",
      "\n",
      "\n"
     ],
     "language": "python",
     "metadata": {},
     "outputs": []
    },
    {
     "cell_type": "markdown",
     "metadata": {},
     "source": [
      "## Question 2: Collect all the reviews for the business set in Question 1\n",
      "* Collect all the reviews for the business entities you collected in Qustion 1. (Hint: Use *business_id* to filter the review data file; the data file can be too large to be loaded into the main memory, try to avoid using up all the memory in your computer.)\n",
      "* Store the review data you collected into a local file (txt file or json file) "
     ]
    },
    {
     "cell_type": "code",
     "collapsed": false,
     "input": [
      "# your code here\n",
      "\n",
      "\n",
      "\n",
      "\n",
      "\n",
      "\n",
      "\n",
      "\n"
     ],
     "language": "python",
     "metadata": {},
     "outputs": []
    },
    {
     "cell_type": "markdown",
     "metadata": {},
     "source": [
      "###Report some statistics about the reviews you collected \n",
      "\n",
      "* The total number of reviews collected: **[PLEASE CHANGE THIS PART]**\n",
      "\n",
      "\n",
      "\n",
      "*----------------------\n",
      "\n",
      "* Plot a histogram of different number of stars for the review set.\n"
     ]
    },
    {
     "cell_type": "code",
     "collapsed": false,
     "input": [
      "# your code here\n",
      "\n",
      "\n",
      "\n"
     ],
     "language": "python",
     "metadata": {},
     "outputs": []
    },
    {
     "cell_type": "markdown",
     "metadata": {},
     "source": [
      "*----------------------\n",
      "\n",
      "* Collect all the text data in these reviews (Hint: check the *text* field of the review objects)\n",
      "\n",
      "* Use the TfidVectorizer class on the text data above, and convert each review into a feature vector.\n",
      "\n"
     ]
    },
    {
     "cell_type": "code",
     "collapsed": false,
     "input": [
      "# your code here\n",
      "\n",
      "\n",
      "\n",
      "\n",
      "\n"
     ],
     "language": "python",
     "metadata": {},
     "outputs": []
    },
    {
     "cell_type": "markdown",
     "metadata": {},
     "source": [
      "*----------------------\n",
      "\n",
      "* Plot a table of the most frequent words (as least top 10, please remove the stop words by setting max_df to some reasonable value) for all the reviews with FIVE stars.\n",
      "* Plot a similar table for all reviews with FOUR stars.\n",
      "* Then three stars, two stars, and one stars.\n",
      "\n",
      "\n"
     ]
    },
    {
     "cell_type": "code",
     "collapsed": false,
     "input": [
      "# your code here\n",
      "\n",
      "\n",
      "\n",
      "\n",
      "\n",
      "\n",
      "\n",
      "\n"
     ],
     "language": "python",
     "metadata": {},
     "outputs": []
    },
    {
     "cell_type": "markdown",
     "metadata": {},
     "source": [
      "## Question 3: Collect all the users for the review set in Question 2\n",
      "* Collect all the users for the reviews you collected in Qustion 2. (Hint: Use *user_id* to filter the user data file)\n",
      "* Store the user data you collected into a local file (txt file or json file) "
     ]
    },
    {
     "cell_type": "code",
     "collapsed": false,
     "input": [
      "# your code here\n",
      "\n",
      "\n",
      "\n",
      "\n",
      "\n"
     ],
     "language": "python",
     "metadata": {},
     "outputs": []
    },
    {
     "cell_type": "markdown",
     "metadata": {},
     "source": [
      "###Report some statistics about the users you collected \n",
      "\n",
      "* The total number of users collected: **[PLEASE CHANGE THIS PART]**\n",
      "\n",
      "\n",
      "\n",
      "*----------------------\n",
      "\n",
      "* Plot a histogram of different review_count for the user set.\n",
      "* Plot a histogram of different average_stars for the user set.\n",
      "* Plot a histogram of different number of friends for the user set."
     ]
    },
    {
     "cell_type": "code",
     "collapsed": false,
     "input": [
      "# your code here\n",
      "\n",
      "\n",
      "\n",
      "\n",
      "\n",
      "\n",
      "\n"
     ],
     "language": "python",
     "metadata": {},
     "outputs": []
    },
    {
     "cell_type": "markdown",
     "metadata": {},
     "source": [
      "*______________________"
     ]
    },
    {
     "cell_type": "heading",
     "level": 1,
     "metadata": {},
     "source": [
      "Problem 2: MapRudce Data Analysis"
     ]
    },
    {
     "cell_type": "markdown",
     "metadata": {},
     "source": [
      "*----------------------\n",
      "\n",
      "* Store the text data of all the collected reviews into a local txt file, where each line of the file contains the text of one review.\n",
      "\n",
      "* Convert the above txt file into TFIDF format using MapReduce. (Hint: use *mrjob* package) Please write your answers into the python file: \"mr_tfidf.py\"\n",
      "\n",
      "* NOTE: you may need to work on this question by runing the python file (\"mr_tfidf.py\") in the terminal (not in IPython notebook)\n",
      "\n",
      "* Hint: you could test the correctness of your code by comparing with the result from TfidVectorizer in the Problem 1 with the result from MapReduce. The two results should be the same.  Note that if the stop words were removed in TfidVectorizer by setting some max_df, the MapReduce version should also remove these stop words. Otherwise the results of TfidVectorizer and MapReduce will be different.) \n"
     ]
    },
    {
     "cell_type": "code",
     "collapsed": false,
     "input": [
      "# Store the text data of all collected reviews into a local txt file\n",
      "# your code here\n",
      "\n",
      "\n",
      "\n",
      "\n",
      "\n",
      "\n",
      "\n",
      "# Then Edit the mr_tfidf.py file to work on the MapReduce implementation of TFIDF"
     ],
     "language": "python",
     "metadata": {},
     "outputs": []
    },
    {
     "cell_type": "markdown",
     "metadata": {},
     "source": [
      "*__________________"
     ]
    },
    {
     "cell_type": "heading",
     "level": 1,
     "metadata": {},
     "source": [
      "Problem 3: Finding Important Users through PageRank Algorithm"
     ]
    },
    {
     "cell_type": "markdown",
     "metadata": {},
     "source": [
      "*----------------------\n",
      "\n",
      "* Convert the friendship information among the users into a graph, where each node is a user, each edge represents the friendship relationship between the two users.\n",
      "\n",
      "* Compute the PageRank scores of each user using PageRank algorithm (Note: please implement the PageRank algorithm by yourself, but you could read and learn from the following code: https://code.google.com/p/python-graph/source/browse/trunk/core/pygraph/algorithms/pagerank.py?r=702)"
     ]
    },
    {
     "cell_type": "code",
     "collapsed": false,
     "input": [
      "# your code here\n",
      "\n",
      "\n",
      "\n",
      "\n",
      "\n",
      "\n",
      "\n",
      "\n",
      "\n",
      "\n",
      "\n",
      "\n",
      "\n",
      "\n"
     ],
     "language": "python",
     "metadata": {},
     "outputs": []
    },
    {
     "cell_type": "markdown",
     "metadata": {},
     "source": [
      "*----------------------\n",
      "\n",
      "* Plot a table of the top 30 users with the largest PageRank scores and their PageRank scores\n"
     ]
    },
    {
     "cell_type": "code",
     "collapsed": false,
     "input": [
      "# your code here\n",
      "\n",
      "\n",
      "\n",
      "\n",
      "\n"
     ],
     "language": "python",
     "metadata": {},
     "outputs": []
    },
    {
     "cell_type": "heading",
     "level": 1,
     "metadata": {},
     "source": [
      "Problem 4: Reweighting the review scores based upon user's PageRank scores"
     ]
    },
    {
     "cell_type": "markdown",
     "metadata": {},
     "source": [
      "*  In the current setting of Yelp, all users are considered as equally important. So the average_star of a business is computed by giving all reviews with equal importance. However, in many cases, the reviews of important users are more influential than those of unimportant users. In this problem, please re-compute the avearage  stars of each business through re-weighting each review by users's PageRank scores. \n",
      "\n",
      "* For example, suppose we have a business with three reviews ($r_1$, $r_2$, $r_3$) from three users ($u_1$, $u_2$, $u_3$).\n",
      "The stars in these three reviews are (2 stars, 3 stars, 4 stars), and the average star for the business was $\\frac{2*1+3*1+4*1}{1+1+1} = 3$.  However, suppose we know the PageRank score of the three users are (0.01, 0.1, 0.8), then after reweighting the reviews, the weighted average star of the business should be $\\frac{2*0.01 + 3*0.1 + 4*0.8}{0.01+0.1+0.8}=3.87$"
     ]
    },
    {
     "cell_type": "code",
     "collapsed": false,
     "input": [
      "# your code here\n",
      "\n",
      "\n",
      "\n",
      "\n",
      "\n",
      "\n",
      "\n",
      "\n",
      "\n"
     ],
     "language": "python",
     "metadata": {},
     "outputs": []
    },
    {
     "cell_type": "markdown",
     "metadata": {},
     "source": [
      "* Computer the difference between the new average_star (weighted by PageRank) and the original average_star of each business\n",
      "* Plot a table of the top 20 business entities with the largest differences in average_star"
     ]
    },
    {
     "cell_type": "code",
     "collapsed": false,
     "input": [
      "# your code here\n",
      "\n",
      "\n",
      "\n",
      "\n",
      "\n",
      "\n",
      "\n",
      "\n",
      "\n",
      "\n"
     ],
     "language": "python",
     "metadata": {},
     "outputs": []
    },
    {
     "cell_type": "markdown",
     "metadata": {},
     "source": [
      "*-----------------\n",
      "# Done\n",
      "\n",
      "All set! \n",
      "\n",
      "** What do you need to submit?**\n",
      "\n",
      "* **Notebook File**: Save this IPython notebook, and find the notebook file in your folder (for example, \"filename.ipynb\"). This is the file you need to submit. Please make sure all the plotted tables and figures are in the notebook. If you used \"ipython notebook --pylab=inline\" to open the notebook, all the figures and tables should have shown up in the notebook.\n",
      "\n",
      "* **mr_tfidf.py File**: please include the mr_tfidf.py file.\n",
      "\n",
      "* ** Report**: please prepare a report (less than 10 pages) to report what you found in the data.\n",
      "    * What business category did you select? Why it is interesting?\n",
      "    * What did you find in the data? \n",
      "     (please include figures or tables in the report, but no source code)\n",
      "* **PPT Slides**: please prepare PPT slides (for 10 minutes' talk) to present about the case study . We will ask two teams which are randomly selected to present their case studies in class for this case study. \n",
      "\n",
      "Please compress all the files in a zipped file.\n",
      "\n",
      "\n",
      "** How to submit: **\n",
      "\n",
      "        [Tuesday/Friday Session]: Send an email to xkong@wpi.edu with the subject: \"[DS501_f14a] Case study 4\".\n",
      "        [Monday Session]: Send an email to xkong@wpi.edu with the subject: \"[DS501_f14e] Case study 4\"."
     ]
    },
    {
     "cell_type": "code",
     "collapsed": false,
     "input": [],
     "language": "python",
     "metadata": {},
     "outputs": []
    }
   ],
   "metadata": {}
  }
 ]
}